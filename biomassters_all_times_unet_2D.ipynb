{
  "nbformat": 4,
  "nbformat_minor": 0,
  "metadata": {
    "colab": {
      "provenance": [],
      "authorship_tag": "ABX9TyPhl95y8qvtsdQ+7j7TNXV0",
      "include_colab_link": true
    },
    "kernelspec": {
      "name": "python3",
      "display_name": "Python 3"
    },
    "language_info": {
      "name": "python"
    },
    "accelerator": "GPU",
    "gpuClass": "standard",
    "widgets": {
      "application/vnd.jupyter.widget-state+json": {
        "ab7506ffe0e04defa5bfedaa1a0ef10c": {
          "model_module": "@jupyter-widgets/controls",
          "model_name": "HBoxModel",
          "model_module_version": "1.5.0",
          "state": {
            "_dom_classes": [],
            "_model_module": "@jupyter-widgets/controls",
            "_model_module_version": "1.5.0",
            "_model_name": "HBoxModel",
            "_view_count": null,
            "_view_module": "@jupyter-widgets/controls",
            "_view_module_version": "1.5.0",
            "_view_name": "HBoxView",
            "box_style": "",
            "children": [
              "IPY_MODEL_c015ee0cd08d4866875fb31d477b52ac",
              "IPY_MODEL_635aa70f7f9e41dbaae6084959972026",
              "IPY_MODEL_5360397028934a26806d0324468ab602"
            ],
            "layout": "IPY_MODEL_ba0f2f9b37864f2a9264b6b14fc05ec9"
          }
        },
        "c015ee0cd08d4866875fb31d477b52ac": {
          "model_module": "@jupyter-widgets/controls",
          "model_name": "HTMLModel",
          "model_module_version": "1.5.0",
          "state": {
            "_dom_classes": [],
            "_model_module": "@jupyter-widgets/controls",
            "_model_module_version": "1.5.0",
            "_model_name": "HTMLModel",
            "_view_count": null,
            "_view_module": "@jupyter-widgets/controls",
            "_view_module_version": "1.5.0",
            "_view_name": "HTMLView",
            "description": "",
            "description_tooltip": null,
            "layout": "IPY_MODEL_32ebdb3fd1d04984bfc113db697944b1",
            "placeholder": "​",
            "style": "IPY_MODEL_c7bf679836314ed6acfde87af0c84e29",
            "value": "Sanity Checking DataLoader 0: 100%"
          }
        },
        "635aa70f7f9e41dbaae6084959972026": {
          "model_module": "@jupyter-widgets/controls",
          "model_name": "FloatProgressModel",
          "model_module_version": "1.5.0",
          "state": {
            "_dom_classes": [],
            "_model_module": "@jupyter-widgets/controls",
            "_model_module_version": "1.5.0",
            "_model_name": "FloatProgressModel",
            "_view_count": null,
            "_view_module": "@jupyter-widgets/controls",
            "_view_module_version": "1.5.0",
            "_view_name": "ProgressView",
            "bar_style": "",
            "description": "",
            "description_tooltip": null,
            "layout": "IPY_MODEL_fa8fb923eeb145fd845fd43ca4e62d79",
            "max": 2,
            "min": 0,
            "orientation": "horizontal",
            "style": "IPY_MODEL_4aa2bf291f2f4b3690a64a8adbaf917c",
            "value": 2
          }
        },
        "5360397028934a26806d0324468ab602": {
          "model_module": "@jupyter-widgets/controls",
          "model_name": "HTMLModel",
          "model_module_version": "1.5.0",
          "state": {
            "_dom_classes": [],
            "_model_module": "@jupyter-widgets/controls",
            "_model_module_version": "1.5.0",
            "_model_name": "HTMLModel",
            "_view_count": null,
            "_view_module": "@jupyter-widgets/controls",
            "_view_module_version": "1.5.0",
            "_view_name": "HTMLView",
            "description": "",
            "description_tooltip": null,
            "layout": "IPY_MODEL_bb4eafedd8a74156a66f8a88389536e1",
            "placeholder": "​",
            "style": "IPY_MODEL_54bac226f0fa442ba55fd797b5c29aea",
            "value": " 2/2 [00:06&lt;00:00,  3.35s/it]"
          }
        },
        "ba0f2f9b37864f2a9264b6b14fc05ec9": {
          "model_module": "@jupyter-widgets/base",
          "model_name": "LayoutModel",
          "model_module_version": "1.2.0",
          "state": {
            "_model_module": "@jupyter-widgets/base",
            "_model_module_version": "1.2.0",
            "_model_name": "LayoutModel",
            "_view_count": null,
            "_view_module": "@jupyter-widgets/base",
            "_view_module_version": "1.2.0",
            "_view_name": "LayoutView",
            "align_content": null,
            "align_items": null,
            "align_self": null,
            "border": null,
            "bottom": null,
            "display": "inline-flex",
            "flex": null,
            "flex_flow": "row wrap",
            "grid_area": null,
            "grid_auto_columns": null,
            "grid_auto_flow": null,
            "grid_auto_rows": null,
            "grid_column": null,
            "grid_gap": null,
            "grid_row": null,
            "grid_template_areas": null,
            "grid_template_columns": null,
            "grid_template_rows": null,
            "height": null,
            "justify_content": null,
            "justify_items": null,
            "left": null,
            "margin": null,
            "max_height": null,
            "max_width": null,
            "min_height": null,
            "min_width": null,
            "object_fit": null,
            "object_position": null,
            "order": null,
            "overflow": null,
            "overflow_x": null,
            "overflow_y": null,
            "padding": null,
            "right": null,
            "top": null,
            "visibility": null,
            "width": "100%"
          }
        },
        "32ebdb3fd1d04984bfc113db697944b1": {
          "model_module": "@jupyter-widgets/base",
          "model_name": "LayoutModel",
          "model_module_version": "1.2.0",
          "state": {
            "_model_module": "@jupyter-widgets/base",
            "_model_module_version": "1.2.0",
            "_model_name": "LayoutModel",
            "_view_count": null,
            "_view_module": "@jupyter-widgets/base",
            "_view_module_version": "1.2.0",
            "_view_name": "LayoutView",
            "align_content": null,
            "align_items": null,
            "align_self": null,
            "border": null,
            "bottom": null,
            "display": null,
            "flex": null,
            "flex_flow": null,
            "grid_area": null,
            "grid_auto_columns": null,
            "grid_auto_flow": null,
            "grid_auto_rows": null,
            "grid_column": null,
            "grid_gap": null,
            "grid_row": null,
            "grid_template_areas": null,
            "grid_template_columns": null,
            "grid_template_rows": null,
            "height": null,
            "justify_content": null,
            "justify_items": null,
            "left": null,
            "margin": null,
            "max_height": null,
            "max_width": null,
            "min_height": null,
            "min_width": null,
            "object_fit": null,
            "object_position": null,
            "order": null,
            "overflow": null,
            "overflow_x": null,
            "overflow_y": null,
            "padding": null,
            "right": null,
            "top": null,
            "visibility": null,
            "width": null
          }
        },
        "c7bf679836314ed6acfde87af0c84e29": {
          "model_module": "@jupyter-widgets/controls",
          "model_name": "DescriptionStyleModel",
          "model_module_version": "1.5.0",
          "state": {
            "_model_module": "@jupyter-widgets/controls",
            "_model_module_version": "1.5.0",
            "_model_name": "DescriptionStyleModel",
            "_view_count": null,
            "_view_module": "@jupyter-widgets/base",
            "_view_module_version": "1.2.0",
            "_view_name": "StyleView",
            "description_width": ""
          }
        },
        "fa8fb923eeb145fd845fd43ca4e62d79": {
          "model_module": "@jupyter-widgets/base",
          "model_name": "LayoutModel",
          "model_module_version": "1.2.0",
          "state": {
            "_model_module": "@jupyter-widgets/base",
            "_model_module_version": "1.2.0",
            "_model_name": "LayoutModel",
            "_view_count": null,
            "_view_module": "@jupyter-widgets/base",
            "_view_module_version": "1.2.0",
            "_view_name": "LayoutView",
            "align_content": null,
            "align_items": null,
            "align_self": null,
            "border": null,
            "bottom": null,
            "display": null,
            "flex": "2",
            "flex_flow": null,
            "grid_area": null,
            "grid_auto_columns": null,
            "grid_auto_flow": null,
            "grid_auto_rows": null,
            "grid_column": null,
            "grid_gap": null,
            "grid_row": null,
            "grid_template_areas": null,
            "grid_template_columns": null,
            "grid_template_rows": null,
            "height": null,
            "justify_content": null,
            "justify_items": null,
            "left": null,
            "margin": null,
            "max_height": null,
            "max_width": null,
            "min_height": null,
            "min_width": null,
            "object_fit": null,
            "object_position": null,
            "order": null,
            "overflow": null,
            "overflow_x": null,
            "overflow_y": null,
            "padding": null,
            "right": null,
            "top": null,
            "visibility": null,
            "width": null
          }
        },
        "4aa2bf291f2f4b3690a64a8adbaf917c": {
          "model_module": "@jupyter-widgets/controls",
          "model_name": "ProgressStyleModel",
          "model_module_version": "1.5.0",
          "state": {
            "_model_module": "@jupyter-widgets/controls",
            "_model_module_version": "1.5.0",
            "_model_name": "ProgressStyleModel",
            "_view_count": null,
            "_view_module": "@jupyter-widgets/base",
            "_view_module_version": "1.2.0",
            "_view_name": "StyleView",
            "bar_color": null,
            "description_width": ""
          }
        },
        "bb4eafedd8a74156a66f8a88389536e1": {
          "model_module": "@jupyter-widgets/base",
          "model_name": "LayoutModel",
          "model_module_version": "1.2.0",
          "state": {
            "_model_module": "@jupyter-widgets/base",
            "_model_module_version": "1.2.0",
            "_model_name": "LayoutModel",
            "_view_count": null,
            "_view_module": "@jupyter-widgets/base",
            "_view_module_version": "1.2.0",
            "_view_name": "LayoutView",
            "align_content": null,
            "align_items": null,
            "align_self": null,
            "border": null,
            "bottom": null,
            "display": null,
            "flex": null,
            "flex_flow": null,
            "grid_area": null,
            "grid_auto_columns": null,
            "grid_auto_flow": null,
            "grid_auto_rows": null,
            "grid_column": null,
            "grid_gap": null,
            "grid_row": null,
            "grid_template_areas": null,
            "grid_template_columns": null,
            "grid_template_rows": null,
            "height": null,
            "justify_content": null,
            "justify_items": null,
            "left": null,
            "margin": null,
            "max_height": null,
            "max_width": null,
            "min_height": null,
            "min_width": null,
            "object_fit": null,
            "object_position": null,
            "order": null,
            "overflow": null,
            "overflow_x": null,
            "overflow_y": null,
            "padding": null,
            "right": null,
            "top": null,
            "visibility": null,
            "width": null
          }
        },
        "54bac226f0fa442ba55fd797b5c29aea": {
          "model_module": "@jupyter-widgets/controls",
          "model_name": "DescriptionStyleModel",
          "model_module_version": "1.5.0",
          "state": {
            "_model_module": "@jupyter-widgets/controls",
            "_model_module_version": "1.5.0",
            "_model_name": "DescriptionStyleModel",
            "_view_count": null,
            "_view_module": "@jupyter-widgets/base",
            "_view_module_version": "1.2.0",
            "_view_name": "StyleView",
            "description_width": ""
          }
        },
        "92ebbc8cbf1a481db827af3feeda56a2": {
          "model_module": "@jupyter-widgets/controls",
          "model_name": "HBoxModel",
          "model_module_version": "1.5.0",
          "state": {
            "_dom_classes": [],
            "_model_module": "@jupyter-widgets/controls",
            "_model_module_version": "1.5.0",
            "_model_name": "HBoxModel",
            "_view_count": null,
            "_view_module": "@jupyter-widgets/controls",
            "_view_module_version": "1.5.0",
            "_view_name": "HBoxView",
            "box_style": "",
            "children": [
              "IPY_MODEL_cfb33de15db4454497bd0020c610b4f6",
              "IPY_MODEL_dccd5e6b29364645a3383217b568522c",
              "IPY_MODEL_15ff263ff8784745ae26a1ede6ec8414"
            ],
            "layout": "IPY_MODEL_9f8aed306c01428e804ff864bd990138"
          }
        },
        "cfb33de15db4454497bd0020c610b4f6": {
          "model_module": "@jupyter-widgets/controls",
          "model_name": "HTMLModel",
          "model_module_version": "1.5.0",
          "state": {
            "_dom_classes": [],
            "_model_module": "@jupyter-widgets/controls",
            "_model_module_version": "1.5.0",
            "_model_name": "HTMLModel",
            "_view_count": null,
            "_view_module": "@jupyter-widgets/controls",
            "_view_module_version": "1.5.0",
            "_view_name": "HTMLView",
            "description": "",
            "description_tooltip": null,
            "layout": "IPY_MODEL_9f657f03daae4e1b94a865c4e11107d2",
            "placeholder": "​",
            "style": "IPY_MODEL_9d4c6b34862445ad8e08ac9eab0c3326",
            "value": "Epoch 0:  11%"
          }
        },
        "dccd5e6b29364645a3383217b568522c": {
          "model_module": "@jupyter-widgets/controls",
          "model_name": "FloatProgressModel",
          "model_module_version": "1.5.0",
          "state": {
            "_dom_classes": [],
            "_model_module": "@jupyter-widgets/controls",
            "_model_module_version": "1.5.0",
            "_model_name": "FloatProgressModel",
            "_view_count": null,
            "_view_module": "@jupyter-widgets/controls",
            "_view_module_version": "1.5.0",
            "_view_name": "ProgressView",
            "bar_style": "",
            "description": "",
            "description_tooltip": null,
            "layout": "IPY_MODEL_58c605b2f8d04bdf9a032f2c3db58daf",
            "max": 28,
            "min": 0,
            "orientation": "horizontal",
            "style": "IPY_MODEL_2bf5ca18a32546d091c3c35a63a48b28",
            "value": 3
          }
        },
        "15ff263ff8784745ae26a1ede6ec8414": {
          "model_module": "@jupyter-widgets/controls",
          "model_name": "HTMLModel",
          "model_module_version": "1.5.0",
          "state": {
            "_dom_classes": [],
            "_model_module": "@jupyter-widgets/controls",
            "_model_module_version": "1.5.0",
            "_model_name": "HTMLModel",
            "_view_count": null,
            "_view_module": "@jupyter-widgets/controls",
            "_view_module_version": "1.5.0",
            "_view_name": "HTMLView",
            "description": "",
            "description_tooltip": null,
            "layout": "IPY_MODEL_857499431944495e932fdd3d2b201913",
            "placeholder": "​",
            "style": "IPY_MODEL_9930e8caa2c445cc8a3779ddea63405a",
            "value": " 3/28 [00:37&lt;05:15, 12.64s/it, loss=5.2e+03, v_num=grrl]"
          }
        },
        "9f8aed306c01428e804ff864bd990138": {
          "model_module": "@jupyter-widgets/base",
          "model_name": "LayoutModel",
          "model_module_version": "1.2.0",
          "state": {
            "_model_module": "@jupyter-widgets/base",
            "_model_module_version": "1.2.0",
            "_model_name": "LayoutModel",
            "_view_count": null,
            "_view_module": "@jupyter-widgets/base",
            "_view_module_version": "1.2.0",
            "_view_name": "LayoutView",
            "align_content": null,
            "align_items": null,
            "align_self": null,
            "border": null,
            "bottom": null,
            "display": "inline-flex",
            "flex": null,
            "flex_flow": "row wrap",
            "grid_area": null,
            "grid_auto_columns": null,
            "grid_auto_flow": null,
            "grid_auto_rows": null,
            "grid_column": null,
            "grid_gap": null,
            "grid_row": null,
            "grid_template_areas": null,
            "grid_template_columns": null,
            "grid_template_rows": null,
            "height": null,
            "justify_content": null,
            "justify_items": null,
            "left": null,
            "margin": null,
            "max_height": null,
            "max_width": null,
            "min_height": null,
            "min_width": null,
            "object_fit": null,
            "object_position": null,
            "order": null,
            "overflow": null,
            "overflow_x": null,
            "overflow_y": null,
            "padding": null,
            "right": null,
            "top": null,
            "visibility": null,
            "width": "100%"
          }
        },
        "9f657f03daae4e1b94a865c4e11107d2": {
          "model_module": "@jupyter-widgets/base",
          "model_name": "LayoutModel",
          "model_module_version": "1.2.0",
          "state": {
            "_model_module": "@jupyter-widgets/base",
            "_model_module_version": "1.2.0",
            "_model_name": "LayoutModel",
            "_view_count": null,
            "_view_module": "@jupyter-widgets/base",
            "_view_module_version": "1.2.0",
            "_view_name": "LayoutView",
            "align_content": null,
            "align_items": null,
            "align_self": null,
            "border": null,
            "bottom": null,
            "display": null,
            "flex": null,
            "flex_flow": null,
            "grid_area": null,
            "grid_auto_columns": null,
            "grid_auto_flow": null,
            "grid_auto_rows": null,
            "grid_column": null,
            "grid_gap": null,
            "grid_row": null,
            "grid_template_areas": null,
            "grid_template_columns": null,
            "grid_template_rows": null,
            "height": null,
            "justify_content": null,
            "justify_items": null,
            "left": null,
            "margin": null,
            "max_height": null,
            "max_width": null,
            "min_height": null,
            "min_width": null,
            "object_fit": null,
            "object_position": null,
            "order": null,
            "overflow": null,
            "overflow_x": null,
            "overflow_y": null,
            "padding": null,
            "right": null,
            "top": null,
            "visibility": null,
            "width": null
          }
        },
        "9d4c6b34862445ad8e08ac9eab0c3326": {
          "model_module": "@jupyter-widgets/controls",
          "model_name": "DescriptionStyleModel",
          "model_module_version": "1.5.0",
          "state": {
            "_model_module": "@jupyter-widgets/controls",
            "_model_module_version": "1.5.0",
            "_model_name": "DescriptionStyleModel",
            "_view_count": null,
            "_view_module": "@jupyter-widgets/base",
            "_view_module_version": "1.2.0",
            "_view_name": "StyleView",
            "description_width": ""
          }
        },
        "58c605b2f8d04bdf9a032f2c3db58daf": {
          "model_module": "@jupyter-widgets/base",
          "model_name": "LayoutModel",
          "model_module_version": "1.2.0",
          "state": {
            "_model_module": "@jupyter-widgets/base",
            "_model_module_version": "1.2.0",
            "_model_name": "LayoutModel",
            "_view_count": null,
            "_view_module": "@jupyter-widgets/base",
            "_view_module_version": "1.2.0",
            "_view_name": "LayoutView",
            "align_content": null,
            "align_items": null,
            "align_self": null,
            "border": null,
            "bottom": null,
            "display": null,
            "flex": "2",
            "flex_flow": null,
            "grid_area": null,
            "grid_auto_columns": null,
            "grid_auto_flow": null,
            "grid_auto_rows": null,
            "grid_column": null,
            "grid_gap": null,
            "grid_row": null,
            "grid_template_areas": null,
            "grid_template_columns": null,
            "grid_template_rows": null,
            "height": null,
            "justify_content": null,
            "justify_items": null,
            "left": null,
            "margin": null,
            "max_height": null,
            "max_width": null,
            "min_height": null,
            "min_width": null,
            "object_fit": null,
            "object_position": null,
            "order": null,
            "overflow": null,
            "overflow_x": null,
            "overflow_y": null,
            "padding": null,
            "right": null,
            "top": null,
            "visibility": null,
            "width": null
          }
        },
        "2bf5ca18a32546d091c3c35a63a48b28": {
          "model_module": "@jupyter-widgets/controls",
          "model_name": "ProgressStyleModel",
          "model_module_version": "1.5.0",
          "state": {
            "_model_module": "@jupyter-widgets/controls",
            "_model_module_version": "1.5.0",
            "_model_name": "ProgressStyleModel",
            "_view_count": null,
            "_view_module": "@jupyter-widgets/base",
            "_view_module_version": "1.2.0",
            "_view_name": "StyleView",
            "bar_color": null,
            "description_width": ""
          }
        },
        "857499431944495e932fdd3d2b201913": {
          "model_module": "@jupyter-widgets/base",
          "model_name": "LayoutModel",
          "model_module_version": "1.2.0",
          "state": {
            "_model_module": "@jupyter-widgets/base",
            "_model_module_version": "1.2.0",
            "_model_name": "LayoutModel",
            "_view_count": null,
            "_view_module": "@jupyter-widgets/base",
            "_view_module_version": "1.2.0",
            "_view_name": "LayoutView",
            "align_content": null,
            "align_items": null,
            "align_self": null,
            "border": null,
            "bottom": null,
            "display": null,
            "flex": null,
            "flex_flow": null,
            "grid_area": null,
            "grid_auto_columns": null,
            "grid_auto_flow": null,
            "grid_auto_rows": null,
            "grid_column": null,
            "grid_gap": null,
            "grid_row": null,
            "grid_template_areas": null,
            "grid_template_columns": null,
            "grid_template_rows": null,
            "height": null,
            "justify_content": null,
            "justify_items": null,
            "left": null,
            "margin": null,
            "max_height": null,
            "max_width": null,
            "min_height": null,
            "min_width": null,
            "object_fit": null,
            "object_position": null,
            "order": null,
            "overflow": null,
            "overflow_x": null,
            "overflow_y": null,
            "padding": null,
            "right": null,
            "top": null,
            "visibility": null,
            "width": null
          }
        },
        "9930e8caa2c445cc8a3779ddea63405a": {
          "model_module": "@jupyter-widgets/controls",
          "model_name": "DescriptionStyleModel",
          "model_module_version": "1.5.0",
          "state": {
            "_model_module": "@jupyter-widgets/controls",
            "_model_module_version": "1.5.0",
            "_model_name": "DescriptionStyleModel",
            "_view_count": null,
            "_view_module": "@jupyter-widgets/base",
            "_view_module_version": "1.2.0",
            "_view_name": "StyleView",
            "description_width": ""
          }
        }
      }
    }
  },
  "cells": [
    {
      "cell_type": "markdown",
      "metadata": {
        "id": "view-in-github",
        "colab_type": "text"
      },
      "source": [
        "<a href=\"https://colab.research.google.com/github/amedyukhina/biomassters/blob/main/biomassters_all_times_unet_2D.ipynb\" target=\"_parent\"><img src=\"https://colab.research.google.com/assets/colab-badge.svg\" alt=\"Open In Colab\"/></a>"
      ]
    },
    {
      "cell_type": "code",
      "execution_count": 1,
      "metadata": {
        "colab": {
          "base_uri": "https://localhost:8080/"
        },
        "id": "cx6C6_iftB_Q",
        "outputId": "94b87b5b-6d03-47f5-def4-02b2e56927cc"
      },
      "outputs": [
        {
          "output_type": "stream",
          "name": "stdout",
          "text": [
            "Overwriting requirements.txt\n"
          ]
        }
      ],
      "source": [
        "%%writefile requirements.txt\n",
        "\n",
        "pandas==1.3.5\n",
        "scikit-learn==1.0.2\n",
        "tqdm==4.64.0\n",
        "numpy==1.21.6\n",
        "torch\n",
        "torchvision\n",
        "scikit-image\n",
        "matplotlib\n",
        "pytorch_lightning\n",
        "segmentation_models_pytorch\n",
        "monai==0.9.1\n",
        "wandb"
      ]
    },
    {
      "cell_type": "code",
      "source": [
        "!pip install -r requirements.txt"
      ],
      "metadata": {
        "colab": {
          "base_uri": "https://localhost:8080/"
        },
        "id": "6MJpKepBtPk4",
        "outputId": "e930cfe1-d83c-4461-ce38-21c66ee853da"
      },
      "execution_count": 2,
      "outputs": [
        {
          "output_type": "stream",
          "name": "stdout",
          "text": [
            "Looking in indexes: https://pypi.org/simple, https://us-python.pkg.dev/colab-wheels/public/simple/\n",
            "Requirement already satisfied: pandas==1.3.5 in /usr/local/lib/python3.8/dist-packages (from -r requirements.txt (line 2)) (1.3.5)\n",
            "Requirement already satisfied: scikit-learn==1.0.2 in /usr/local/lib/python3.8/dist-packages (from -r requirements.txt (line 3)) (1.0.2)\n",
            "Requirement already satisfied: tqdm==4.64.0 in /usr/local/lib/python3.8/dist-packages (from -r requirements.txt (line 4)) (4.64.0)\n",
            "Requirement already satisfied: numpy==1.21.6 in /usr/local/lib/python3.8/dist-packages (from -r requirements.txt (line 5)) (1.21.6)\n",
            "Requirement already satisfied: torch in /usr/local/lib/python3.8/dist-packages (from -r requirements.txt (line 6)) (1.13.0+cu116)\n",
            "Requirement already satisfied: torchvision in /usr/local/lib/python3.8/dist-packages (from -r requirements.txt (line 7)) (0.14.0+cu116)\n",
            "Requirement already satisfied: scikit-image in /usr/local/lib/python3.8/dist-packages (from -r requirements.txt (line 8)) (0.18.3)\n",
            "Requirement already satisfied: matplotlib in /usr/local/lib/python3.8/dist-packages (from -r requirements.txt (line 9)) (3.2.2)\n",
            "Requirement already satisfied: pytorch_lightning in /usr/local/lib/python3.8/dist-packages (from -r requirements.txt (line 10)) (1.8.6)\n",
            "Requirement already satisfied: segmentation_models_pytorch in /usr/local/lib/python3.8/dist-packages (from -r requirements.txt (line 11)) (0.3.1)\n",
            "Requirement already satisfied: monai==0.9.1 in /usr/local/lib/python3.8/dist-packages (from -r requirements.txt (line 12)) (0.9.1)\n",
            "Requirement already satisfied: wandb in /usr/local/lib/python3.8/dist-packages (from -r requirements.txt (line 13)) (0.13.7)\n",
            "Requirement already satisfied: python-dateutil>=2.7.3 in /usr/local/lib/python3.8/dist-packages (from pandas==1.3.5->-r requirements.txt (line 2)) (2.8.2)\n",
            "Requirement already satisfied: pytz>=2017.3 in /usr/local/lib/python3.8/dist-packages (from pandas==1.3.5->-r requirements.txt (line 2)) (2022.6)\n",
            "Requirement already satisfied: joblib>=0.11 in /usr/local/lib/python3.8/dist-packages (from scikit-learn==1.0.2->-r requirements.txt (line 3)) (1.2.0)\n",
            "Requirement already satisfied: scipy>=1.1.0 in /usr/local/lib/python3.8/dist-packages (from scikit-learn==1.0.2->-r requirements.txt (line 3)) (1.7.3)\n",
            "Requirement already satisfied: threadpoolctl>=2.0.0 in /usr/local/lib/python3.8/dist-packages (from scikit-learn==1.0.2->-r requirements.txt (line 3)) (3.1.0)\n",
            "Requirement already satisfied: typing-extensions in /usr/local/lib/python3.8/dist-packages (from torch->-r requirements.txt (line 6)) (4.4.0)\n",
            "Requirement already satisfied: six>=1.5 in /usr/local/lib/python3.8/dist-packages (from python-dateutil>=2.7.3->pandas==1.3.5->-r requirements.txt (line 2)) (1.15.0)\n",
            "Requirement already satisfied: requests in /usr/local/lib/python3.8/dist-packages (from torchvision->-r requirements.txt (line 7)) (2.23.0)\n",
            "Requirement already satisfied: pillow!=8.3.*,>=5.3.0 in /usr/local/lib/python3.8/dist-packages (from torchvision->-r requirements.txt (line 7)) (7.1.2)\n",
            "Requirement already satisfied: tifffile>=2019.7.26 in /usr/local/lib/python3.8/dist-packages (from scikit-image->-r requirements.txt (line 8)) (2022.10.10)\n",
            "Requirement already satisfied: imageio>=2.3.0 in /usr/local/lib/python3.8/dist-packages (from scikit-image->-r requirements.txt (line 8)) (2.9.0)\n",
            "Requirement already satisfied: networkx>=2.0 in /usr/local/lib/python3.8/dist-packages (from scikit-image->-r requirements.txt (line 8)) (2.8.8)\n",
            "Requirement already satisfied: PyWavelets>=1.1.1 in /usr/local/lib/python3.8/dist-packages (from scikit-image->-r requirements.txt (line 8)) (1.4.1)\n",
            "Requirement already satisfied: pyparsing!=2.0.4,!=2.1.2,!=2.1.6,>=2.0.1 in /usr/local/lib/python3.8/dist-packages (from matplotlib->-r requirements.txt (line 9)) (3.0.9)\n",
            "Requirement already satisfied: kiwisolver>=1.0.1 in /usr/local/lib/python3.8/dist-packages (from matplotlib->-r requirements.txt (line 9)) (1.4.4)\n",
            "Requirement already satisfied: cycler>=0.10 in /usr/local/lib/python3.8/dist-packages (from matplotlib->-r requirements.txt (line 9)) (0.11.0)\n",
            "Requirement already satisfied: fsspec[http]>2021.06.0 in /usr/local/lib/python3.8/dist-packages (from pytorch_lightning->-r requirements.txt (line 10)) (2022.11.0)\n",
            "Requirement already satisfied: tensorboardX>=2.2 in /usr/local/lib/python3.8/dist-packages (from pytorch_lightning->-r requirements.txt (line 10)) (2.5.1)\n",
            "Requirement already satisfied: packaging>=17.0 in /usr/local/lib/python3.8/dist-packages (from pytorch_lightning->-r requirements.txt (line 10)) (21.3)\n",
            "Requirement already satisfied: torchmetrics>=0.7.0 in /usr/local/lib/python3.8/dist-packages (from pytorch_lightning->-r requirements.txt (line 10)) (0.11.0)\n",
            "Requirement already satisfied: PyYAML>=5.4 in /usr/local/lib/python3.8/dist-packages (from pytorch_lightning->-r requirements.txt (line 10)) (6.0)\n",
            "Requirement already satisfied: lightning-utilities!=0.4.0,>=0.3.0 in /usr/local/lib/python3.8/dist-packages (from pytorch_lightning->-r requirements.txt (line 10)) (0.5.0)\n",
            "Requirement already satisfied: aiohttp!=4.0.0a0,!=4.0.0a1 in /usr/local/lib/python3.8/dist-packages (from fsspec[http]>2021.06.0->pytorch_lightning->-r requirements.txt (line 10)) (3.8.3)\n",
            "Requirement already satisfied: charset-normalizer<3.0,>=2.0 in /usr/local/lib/python3.8/dist-packages (from aiohttp!=4.0.0a0,!=4.0.0a1->fsspec[http]>2021.06.0->pytorch_lightning->-r requirements.txt (line 10)) (2.1.1)\n",
            "Requirement already satisfied: frozenlist>=1.1.1 in /usr/local/lib/python3.8/dist-packages (from aiohttp!=4.0.0a0,!=4.0.0a1->fsspec[http]>2021.06.0->pytorch_lightning->-r requirements.txt (line 10)) (1.3.3)\n",
            "Requirement already satisfied: async-timeout<5.0,>=4.0.0a3 in /usr/local/lib/python3.8/dist-packages (from aiohttp!=4.0.0a0,!=4.0.0a1->fsspec[http]>2021.06.0->pytorch_lightning->-r requirements.txt (line 10)) (4.0.2)\n",
            "Requirement already satisfied: attrs>=17.3.0 in /usr/local/lib/python3.8/dist-packages (from aiohttp!=4.0.0a0,!=4.0.0a1->fsspec[http]>2021.06.0->pytorch_lightning->-r requirements.txt (line 10)) (22.1.0)\n",
            "Requirement already satisfied: yarl<2.0,>=1.0 in /usr/local/lib/python3.8/dist-packages (from aiohttp!=4.0.0a0,!=4.0.0a1->fsspec[http]>2021.06.0->pytorch_lightning->-r requirements.txt (line 10)) (1.8.2)\n",
            "Requirement already satisfied: aiosignal>=1.1.2 in /usr/local/lib/python3.8/dist-packages (from aiohttp!=4.0.0a0,!=4.0.0a1->fsspec[http]>2021.06.0->pytorch_lightning->-r requirements.txt (line 10)) (1.3.1)\n",
            "Requirement already satisfied: multidict<7.0,>=4.5 in /usr/local/lib/python3.8/dist-packages (from aiohttp!=4.0.0a0,!=4.0.0a1->fsspec[http]>2021.06.0->pytorch_lightning->-r requirements.txt (line 10)) (6.0.3)\n",
            "Requirement already satisfied: protobuf<=3.20.1,>=3.8.0 in /usr/local/lib/python3.8/dist-packages (from tensorboardX>=2.2->pytorch_lightning->-r requirements.txt (line 10)) (3.19.6)\n",
            "Requirement already satisfied: idna>=2.0 in /usr/local/lib/python3.8/dist-packages (from yarl<2.0,>=1.0->aiohttp!=4.0.0a0,!=4.0.0a1->fsspec[http]>2021.06.0->pytorch_lightning->-r requirements.txt (line 10)) (2.10)\n",
            "Requirement already satisfied: efficientnet-pytorch==0.7.1 in /usr/local/lib/python3.8/dist-packages (from segmentation_models_pytorch->-r requirements.txt (line 11)) (0.7.1)\n",
            "Requirement already satisfied: timm==0.4.12 in /usr/local/lib/python3.8/dist-packages (from segmentation_models_pytorch->-r requirements.txt (line 11)) (0.4.12)\n",
            "Requirement already satisfied: pretrainedmodels==0.7.4 in /usr/local/lib/python3.8/dist-packages (from segmentation_models_pytorch->-r requirements.txt (line 11)) (0.7.4)\n",
            "Requirement already satisfied: munch in /usr/local/lib/python3.8/dist-packages (from pretrainedmodels==0.7.4->segmentation_models_pytorch->-r requirements.txt (line 11)) (2.5.0)\n",
            "Requirement already satisfied: psutil>=5.0.0 in /usr/local/lib/python3.8/dist-packages (from wandb->-r requirements.txt (line 13)) (5.4.8)\n",
            "Requirement already satisfied: Click!=8.0.0,>=7.0 in /usr/local/lib/python3.8/dist-packages (from wandb->-r requirements.txt (line 13)) (7.1.2)\n",
            "Requirement already satisfied: sentry-sdk>=1.0.0 in /usr/local/lib/python3.8/dist-packages (from wandb->-r requirements.txt (line 13)) (1.9.0)\n",
            "Requirement already satisfied: pathtools in /usr/local/lib/python3.8/dist-packages (from wandb->-r requirements.txt (line 13)) (0.1.2)\n",
            "Requirement already satisfied: setuptools in /usr/local/lib/python3.8/dist-packages (from wandb->-r requirements.txt (line 13)) (57.4.0)\n",
            "Requirement already satisfied: shortuuid>=0.5.0 in /usr/local/lib/python3.8/dist-packages (from wandb->-r requirements.txt (line 13)) (1.0.11)\n",
            "Requirement already satisfied: setproctitle in /usr/local/lib/python3.8/dist-packages (from wandb->-r requirements.txt (line 13)) (1.3.2)\n",
            "Requirement already satisfied: GitPython>=1.0.0 in /usr/local/lib/python3.8/dist-packages (from wandb->-r requirements.txt (line 13)) (3.1.30)\n",
            "Requirement already satisfied: docker-pycreds>=0.4.0 in /usr/local/lib/python3.8/dist-packages (from wandb->-r requirements.txt (line 13)) (0.4.0)\n",
            "Requirement already satisfied: promise<3,>=2.0 in /usr/local/lib/python3.8/dist-packages (from wandb->-r requirements.txt (line 13)) (2.3)\n",
            "Requirement already satisfied: gitdb<5,>=4.0.1 in /usr/local/lib/python3.8/dist-packages (from GitPython>=1.0.0->wandb->-r requirements.txt (line 13)) (4.0.10)\n",
            "Requirement already satisfied: smmap<6,>=3.0.1 in /usr/local/lib/python3.8/dist-packages (from gitdb<5,>=4.0.1->GitPython>=1.0.0->wandb->-r requirements.txt (line 13)) (5.0.0)\n",
            "Requirement already satisfied: urllib3!=1.25.0,!=1.25.1,<1.26,>=1.21.1 in /usr/local/lib/python3.8/dist-packages (from requests->torchvision->-r requirements.txt (line 7)) (1.24.3)\n",
            "Requirement already satisfied: certifi>=2017.4.17 in /usr/local/lib/python3.8/dist-packages (from requests->torchvision->-r requirements.txt (line 7)) (2022.12.7)\n",
            "Requirement already satisfied: chardet<4,>=3.0.2 in /usr/local/lib/python3.8/dist-packages (from requests->torchvision->-r requirements.txt (line 7)) (3.0.4)\n"
          ]
        }
      ]
    },
    {
      "cell_type": "code",
      "source": [
        "from google.colab import drive\n",
        "import os\n",
        "import pandas as pd\n",
        "from tqdm import tqdm\n",
        "import numpy as np\n",
        "from skimage import io\n",
        "\n",
        "from cachetools import cached, TTLCache\n",
        "\n",
        "import torch\n",
        "from torch.utils.data import Dataset, DataLoader\n",
        "from torchvision.transforms import ToTensor\n",
        "from torchvision.transforms import Compose, Normalize\n",
        "import torch.nn.functional as F\n",
        "import segmentation_models_pytorch as smp\n",
        "from torchvision.io import read_image\n",
        "from torchvision import transforms\n",
        "from pytorch_lightning import LightningModule, Trainer\n",
        "from pytorch_lightning.loggers import WandbLogger\n",
        "from pytorch_lightning.callbacks import ModelCheckpoint\n",
        "import pytorch_lightning as pl\n",
        "import warnings\n",
        "from matplotlib import pyplot as plt\n",
        "from tqdm.notebook import tqdm\n",
        "import shutil\n",
        "from scipy import ndimage\n",
        "from monai.networks.layers import Norm\n",
        "from monai.networks.nets import UNet\n",
        "import wandb"
      ],
      "metadata": {
        "id": "8Im8wt6KtRot"
      },
      "execution_count": 3,
      "outputs": []
    },
    {
      "cell_type": "code",
      "source": [
        "drive.mount('/content/gdrive')"
      ],
      "metadata": {
        "colab": {
          "base_uri": "https://localhost:8080/"
        },
        "id": "nb9UyntbtSEu",
        "outputId": "a24b8b36-9030-46b1-9c16-3ad3e193524c"
      },
      "execution_count": 4,
      "outputs": [
        {
          "output_type": "stream",
          "name": "stdout",
          "text": [
            "Drive already mounted at /content/gdrive; to attempt to forcibly remount, call drive.mount(\"/content/gdrive\", force_remount=True).\n"
          ]
        }
      ]
    },
    {
      "cell_type": "code",
      "source": [
        "with open('gdrive/MyDrive/Personal/wandb_apikey') as f:\n",
        "    key = f.read()\n",
        "\n",
        "os.environ['WANDB_API_KEY'] = key.rstrip('\\n')"
      ],
      "metadata": {
        "id": "nj03wxuVAzkO"
      },
      "execution_count": 5,
      "outputs": []
    },
    {
      "cell_type": "markdown",
      "source": [
        "### Prepare list of chip IDs"
      ],
      "metadata": {
        "id": "_dEE28TBs1ps"
      }
    },
    {
      "cell_type": "code",
      "source": [
        "feature_path = 'gdrive/MyDrive/biomassters/info/features_metadata.csv'\n",
        "data_path = 'gdrive/MyDrive/biomassters/data/'\n",
        "train_img_dir = data_path + 'train_features'\n",
        "test_img_dir = data_path + 'test_features'\n",
        "label_dir = data_path + 'train_agbm'\n",
        "output_dir = 'predicted'\n",
        "model_checkpoint_path = 'gdrive/MyDrive/biomassters/models/'\n",
        "MODE = 'S2'\n",
        "ntrain = 200\n",
        "nval = 20"
      ],
      "metadata": {
        "id": "eH_DBwXlaioL"
      },
      "execution_count": 6,
      "outputs": []
    },
    {
      "cell_type": "code",
      "source": [
        "df = pd.read_csv(feature_path)\n",
        "df_pred = df[df['split'] == 'test'].reset_index(drop=True)\n",
        "pred_ids = np.unique(df_pred['chip_id'])\n",
        "df = df[df['split'] == 'train'].reset_index(drop=True)\n",
        "all_ids = np.unique(df['chip_id'])\n",
        "\n",
        "np.random.seed(42)\n",
        "np.random.shuffle(all_ids)\n",
        "train_ids = all_ids[:ntrain]\n",
        "val_ids = all_ids[ntrain:ntrain+nval]"
      ],
      "metadata": {
        "id": "IbzAKgvbzPC4"
      },
      "execution_count": 7,
      "outputs": []
    },
    {
      "cell_type": "markdown",
      "source": [
        "### Set up data loading"
      ],
      "metadata": {
        "id": "3UjNA0fHs_Yq"
      }
    },
    {
      "cell_type": "code",
      "source": [
        "cache = TTLCache(maxsize=1000, ttl=86400)"
      ],
      "metadata": {
        "id": "lP_tzGsX8Ayj"
      },
      "execution_count": 8,
      "outputs": []
    },
    {
      "cell_type": "code",
      "source": [
        "@cached(cache)\n",
        "def get_image(fn):\n",
        "    if os.path.exists(fn):\n",
        "        img = io.imread(fn)\n",
        "        if img.shape[-1] < 20:\n",
        "            img = np.moveaxis(img, -1, 0)\n",
        "    else:\n",
        "        img = np.zeros((len(MEANS), 256, 256))\n",
        "    return img"
      ],
      "metadata": {
        "id": "nL07qrNR4WSk"
      },
      "execution_count": 9,
      "outputs": []
    },
    {
      "cell_type": "code",
      "source": [
        "MEANS, STDS = np.load(data_path + rf'{MODE.lower()}_mean_std.npy')\n",
        "MEANS = MEANS.reshape(-1,1,1)\n",
        "STDS = STDS.reshape(-1,1,1)"
      ],
      "metadata": {
        "id": "-oXIIMKMCRWs"
      },
      "execution_count": 10,
      "outputs": []
    },
    {
      "cell_type": "markdown",
      "source": [
        "### Define a dataset"
      ],
      "metadata": {
        "id": "UV0wP2UTwckg"
      }
    },
    {
      "cell_type": "code",
      "source": [
        "class SentinelDataset2(Dataset):\n",
        "    def __init__(self, chip_ids, img_dir, label_dir=None, \n",
        "                 transform=None):\n",
        "        self.chip_ids = chip_ids\n",
        "        self.img_dir = img_dir\n",
        "        self.label_dir = label_dir\n",
        "        self.transform = transform\n",
        "        \n",
        "    def __len__(self):\n",
        "        return len(self.chip_ids)\n",
        "\n",
        "    def __getitem__(self, idx):\n",
        "        image = []\n",
        "        for month in range(12):\n",
        "            img = get_image(os.path.join(self.img_dir, \n",
        "                                          rf\"{self.chip_ids[idx]}_{MODE}_{month:02d}.tif\"))\n",
        "            img = torch.tensor(img.astype(np.float32))\n",
        "            image.append(img)\n",
        "        image = torch.stack(image)\n",
        "        t, c, h, w = image.shape\n",
        "        \n",
        "        if self.label_dir is not None:\n",
        "            label = get_image(os.path.join(self.label_dir, \n",
        "                                           rf\"{self.chip_ids[idx]}_agbm.tif\"))\n",
        "            label = ndimage.median_filter(label[0], 3)\n",
        "            label = torch.tensor(label.astype(np.float32)).unsqueeze(0)\n",
        "        else:\n",
        "            label = None\n",
        "\n",
        "        \n",
        "        if self.transform:\n",
        "            image = self.transform(torch.concat([image.reshape(t*c, h, w), label]))\n",
        "            label = image[-1:]\n",
        "            image = image[:-1].reshape(t, c, h, w)\n",
        "\n",
        "        image = torch.stack([(img - torch.tensor(MEANS))/torch.tensor(STDS) \n",
        "                for img in image])\n",
        "            \n",
        "        return image, label"
      ],
      "metadata": {
        "id": "2N_LputV837B"
      },
      "execution_count": 11,
      "outputs": []
    },
    {
      "cell_type": "code",
      "source": [
        "train_transforms = transforms.Compose([\n",
        "        transforms.RandomHorizontalFlip(),\n",
        "        transforms.RandomVerticalFlip(),\n",
        "        transforms.RandomRotation(degrees=180)\n",
        "    ])\n",
        "\n",
        "# valid_transforms = transforms.Compose([\n",
        "#         transforms.RandomHorizontalFlip(),\n",
        "#         transforms.RandomVerticalFlip(),\n",
        "#         # transforms.RandomRotation(degrees=180)\n",
        "#     ])"
      ],
      "metadata": {
        "id": "MJU6P5pKtlco"
      },
      "execution_count": 12,
      "outputs": []
    },
    {
      "cell_type": "code",
      "source": [
        "train_ds = SentinelDataset2(train_ids, train_img_dir, label_dir, \n",
        "                            transform=train_transforms\n",
        "                            )\n",
        "val_ds = SentinelDataset2(val_ids, train_img_dir, label_dir)\n",
        "train_dataloader = DataLoader(train_ds, batch_size=8, \n",
        "                              shuffle=True, num_workers = 2)\n",
        "valid_dataloader = DataLoader(val_ds, batch_size=8, \n",
        "                              shuffle=False, num_workers = 2)\n",
        "\n",
        "test_ds = SentinelDataset2(pred_ids, test_img_dir)\n",
        "test_dataloader = DataLoader(test_ds, batch_size=2, \n",
        "                             shuffle=True, num_workers = 2)"
      ],
      "metadata": {
        "id": "P1hG_s0QtOpq"
      },
      "execution_count": 13,
      "outputs": []
    },
    {
      "cell_type": "code",
      "source": [
        "# torch.random.manual_seed(42)"
      ],
      "metadata": {
        "id": "6Xi1fWEJ0L0j"
      },
      "execution_count": 14,
      "outputs": []
    },
    {
      "cell_type": "code",
      "source": [
        "# %%time\n",
        "# imgs, labels = next(iter(train_dataloader))"
      ],
      "metadata": {
        "id": "2YSYs63atOsc"
      },
      "execution_count": 15,
      "outputs": []
    },
    {
      "cell_type": "code",
      "source": [
        "# imgs.shape, labels.shape"
      ],
      "metadata": {
        "id": "9eTRmZKJtOvx"
      },
      "execution_count": 16,
      "outputs": []
    },
    {
      "cell_type": "code",
      "source": [
        "# cols = 5\n",
        "# rows = 2\n",
        "# s = 3\n",
        "# fig, axes = plt.subplots(rows, cols, figsize=(s*cols, s*rows))\n",
        "# for img, ax in zip(imgs[0][0], axes.ravel()):\n",
        "#     ax.imshow(img.numpy())"
      ],
      "metadata": {
        "id": "-ULgNtJq2er_"
      },
      "execution_count": 17,
      "outputs": []
    },
    {
      "cell_type": "code",
      "source": [
        "# # Show ground truth\n",
        "# plt.imshow(labels[0][0].numpy())"
      ],
      "metadata": {
        "id": "wswKZm5Z9Gyx"
      },
      "execution_count": 18,
      "outputs": []
    },
    {
      "cell_type": "markdown",
      "source": [
        "### Define the model and the training pipeline"
      ],
      "metadata": {
        "id": "_mTHkbGe23xU"
      }
    },
    {
      "cell_type": "code",
      "source": [
        "def model_forward(img, model):\n",
        "    b, t, c, h, w = img.shape\n",
        "    predicted = model(img.reshape(b*t, c, h, w))\n",
        "    predicted = predicted.reshape(b,t,1,h,w).max(1)[0]\n",
        "    return predicted\n",
        "\n",
        "def train_val_step(batch, model):\n",
        "    img, label = batch\n",
        "    predicted = model_forward(img, model)\n",
        "    loss = F.mse_loss(predicted, label)\n",
        "    return loss\n",
        "\n",
        "\n",
        "class Sentinel2Model(pl.LightningModule):\n",
        "    def __init__(self, model):\n",
        "        super().__init__()\n",
        "        self.model = model\n",
        "\n",
        "    def training_step(self, batch, batch_idx):\n",
        "        loss = train_val_step(batch, self.model)\n",
        "        self.log(\"train/loss\", loss)\n",
        "        self.log(\"train/rmse\", torch.sqrt(loss))\n",
        "        return loss\n",
        "    \n",
        "    def validation_step(self, batch, batch_idx):\n",
        "        loss = train_val_step(batch, self.model)\n",
        "        self.log(\"valid_loss\", loss)\n",
        "        self.log(\"valid_rmse\", torch.sqrt(loss))\n",
        "        return loss\n",
        "    \n",
        "    def configure_optimizers(self):\n",
        "        return torch.optim.Adam(self.parameters(), lr=0.02)\n",
        "    \n",
        "    def forward(self, x):\n",
        "        return self.model(x)"
      ],
      "metadata": {
        "id": "xU78ehFP2N4l"
      },
      "execution_count": 19,
      "outputs": []
    },
    {
      "cell_type": "code",
      "source": [
        "n_channels = (32, 64, 128, 256, 512)\n",
        "base_model = UNet(\n",
        "    spatial_dims=2,\n",
        "    in_channels=len(MEANS),\n",
        "    out_channels=1,\n",
        "    channels=n_channels,\n",
        "    strides=(2,) * (len(n_channels) - 1),\n",
        "    num_res_units=2,\n",
        "    norm=Norm.BATCH,\n",
        ")"
      ],
      "metadata": {
        "id": "BdT5SQKl2N8K"
      },
      "execution_count": 20,
      "outputs": []
    },
    {
      "cell_type": "code",
      "source": [
        "s2_model = Sentinel2Model(base_model)"
      ],
      "metadata": {
        "id": "lZ4hMMaz9G1_"
      },
      "execution_count": 21,
      "outputs": []
    },
    {
      "cell_type": "code",
      "source": [
        "wandb_logger = WandbLogger(project='BioMassters_all_timepoints')"
      ],
      "metadata": {
        "colab": {
          "base_uri": "https://localhost:8080/",
          "height": 124
        },
        "id": "pKgddBI9BX6u",
        "outputId": "dfcd8085-e36e-4dae-8aa3-e419a0bbe720"
      },
      "execution_count": 22,
      "outputs": [
        {
          "output_type": "stream",
          "name": "stderr",
          "text": [
            "ERROR:wandb.jupyter:Failed to detect the name of this notebook, you can set it manually with the WANDB_NOTEBOOK_NAME environment variable to enable code saving.\n",
            "\u001b[34m\u001b[1mwandb\u001b[0m: Currently logged in as: \u001b[33mamedyukh\u001b[0m. Use \u001b[1m`wandb login --relogin`\u001b[0m to force relogin\n"
          ]
        },
        {
          "output_type": "display_data",
          "data": {
            "text/plain": [
              "<IPython.core.display.HTML object>"
            ],
            "text/html": [
              "Tracking run with wandb version 0.13.7"
            ]
          },
          "metadata": {}
        },
        {
          "output_type": "display_data",
          "data": {
            "text/plain": [
              "<IPython.core.display.HTML object>"
            ],
            "text/html": [
              "Run data is saved locally in <code>./wandb/run-20221229_193650-tldbgrrl</code>"
            ]
          },
          "metadata": {}
        },
        {
          "output_type": "display_data",
          "data": {
            "text/plain": [
              "<IPython.core.display.HTML object>"
            ],
            "text/html": [
              "Syncing run <strong><a href=\"https://wandb.ai/amedyukh/BioMassters_all_timepoints/runs/tldbgrrl\" target=\"_blank\">balmy-feather-7</a></strong> to <a href=\"https://wandb.ai/amedyukh/BioMassters_all_timepoints\" target=\"_blank\">Weights & Biases</a> (<a href=\"https://wandb.me/run\" target=\"_blank\">docs</a>)<br/>"
            ]
          },
          "metadata": {}
        }
      ]
    },
    {
      "cell_type": "code",
      "source": [
        " checkpoint_callback = ModelCheckpoint(\n",
        "     monitor='valid_rmse',\n",
        "     dirpath=os.path.join(model_checkpoint_path, wandb.run.name),\n",
        "     filename='{epoch:02d}-{valid_rmse:.2f}')"
      ],
      "metadata": {
        "id": "VU0Y69VdEwUc"
      },
      "execution_count": 23,
      "outputs": []
    },
    {
      "cell_type": "code",
      "source": [
        "# Initialize a trainer\n",
        "trainer = Trainer(\n",
        "    accelerator=\"gpu\",\n",
        "    max_epochs=30,\n",
        "    logger=[wandb_logger],\n",
        "    callbacks=[checkpoint_callback],\n",
        "    log_every_n_steps=5\n",
        ")"
      ],
      "metadata": {
        "id": "P440xeJC9G6U",
        "colab": {
          "base_uri": "https://localhost:8080/"
        },
        "outputId": "89be9148-e030-4cab-c1ae-6f4d5f75950e"
      },
      "execution_count": 24,
      "outputs": [
        {
          "output_type": "stream",
          "name": "stderr",
          "text": [
            "INFO:pytorch_lightning.utilities.rank_zero:GPU available: True (cuda), used: True\n",
            "INFO:pytorch_lightning.utilities.rank_zero:TPU available: False, using: 0 TPU cores\n",
            "INFO:pytorch_lightning.utilities.rank_zero:IPU available: False, using: 0 IPUs\n",
            "INFO:pytorch_lightning.utilities.rank_zero:HPU available: False, using: 0 HPUs\n"
          ]
        }
      ]
    },
    {
      "cell_type": "markdown",
      "source": [
        "### Train"
      ],
      "metadata": {
        "id": "oc91ZNWE3h0_"
      }
    },
    {
      "cell_type": "code",
      "source": [
        "%%time\n",
        "# Train the model ⚡\n",
        "torch.random.manual_seed(42)\n",
        "trainer.fit(s2_model, train_dataloaders=train_dataloader, \n",
        "            val_dataloaders=valid_dataloader)"
      ],
      "metadata": {
        "id": "r8mZYVGM3dOu",
        "colab": {
          "base_uri": "https://localhost:8080/",
          "height": 223,
          "referenced_widgets": [
            "ab7506ffe0e04defa5bfedaa1a0ef10c",
            "c015ee0cd08d4866875fb31d477b52ac",
            "635aa70f7f9e41dbaae6084959972026",
            "5360397028934a26806d0324468ab602",
            "ba0f2f9b37864f2a9264b6b14fc05ec9",
            "32ebdb3fd1d04984bfc113db697944b1",
            "c7bf679836314ed6acfde87af0c84e29",
            "fa8fb923eeb145fd845fd43ca4e62d79",
            "4aa2bf291f2f4b3690a64a8adbaf917c",
            "bb4eafedd8a74156a66f8a88389536e1",
            "54bac226f0fa442ba55fd797b5c29aea",
            "92ebbc8cbf1a481db827af3feeda56a2",
            "cfb33de15db4454497bd0020c610b4f6",
            "dccd5e6b29364645a3383217b568522c",
            "15ff263ff8784745ae26a1ede6ec8414",
            "9f8aed306c01428e804ff864bd990138",
            "9f657f03daae4e1b94a865c4e11107d2",
            "9d4c6b34862445ad8e08ac9eab0c3326",
            "58c605b2f8d04bdf9a032f2c3db58daf",
            "2bf5ca18a32546d091c3c35a63a48b28",
            "857499431944495e932fdd3d2b201913",
            "9930e8caa2c445cc8a3779ddea63405a"
          ]
        },
        "outputId": "01af60b6-f58e-4487-8ae0-a463921a7bd7"
      },
      "execution_count": null,
      "outputs": [
        {
          "output_type": "stream",
          "name": "stderr",
          "text": [
            "INFO:pytorch_lightning.accelerators.cuda:LOCAL_RANK: 0 - CUDA_VISIBLE_DEVICES: [0]\n",
            "INFO:pytorch_lightning.callbacks.model_summary:\n",
            "  | Name  | Type | Params\n",
            "-------------------------------\n",
            "0 | model | UNet | 6.5 M \n",
            "-------------------------------\n",
            "6.5 M     Trainable params\n",
            "0         Non-trainable params\n",
            "6.5 M     Total params\n",
            "26.021    Total estimated model params size (MB)\n"
          ]
        },
        {
          "output_type": "display_data",
          "data": {
            "text/plain": [
              "Sanity Checking: 0it [00:00, ?it/s]"
            ],
            "application/vnd.jupyter.widget-view+json": {
              "version_major": 2,
              "version_minor": 0,
              "model_id": "ab7506ffe0e04defa5bfedaa1a0ef10c"
            }
          },
          "metadata": {}
        },
        {
          "output_type": "display_data",
          "data": {
            "text/plain": [
              "Training: 0it [00:00, ?it/s]"
            ],
            "application/vnd.jupyter.widget-view+json": {
              "version_major": 2,
              "version_minor": 0,
              "model_id": "92ebbc8cbf1a481db827af3feeda56a2"
            }
          },
          "metadata": {}
        }
      ]
    },
    {
      "cell_type": "markdown",
      "source": [
        "### Show example predictions"
      ],
      "metadata": {
        "id": "akJmK8Qo_gI-"
      }
    },
    {
      "cell_type": "code",
      "source": [
        "fn = os.listdir(os.path.join(model_checkpoint_path, wandb.run.name))[0]\n",
        "s2_model.load_state_dict(torch.load(os.path.join(model_checkpoint_path, wandb.run.name, fn))['state_dict'])\n",
        "s2_model.eval().cuda();"
      ],
      "metadata": {
        "id": "4S-Ff1GLIFlc"
      },
      "execution_count": null,
      "outputs": []
    },
    {
      "cell_type": "code",
      "source": [
        "imgs, labels = next(iter(valid_dataloader))\n",
        "pred = model_forward(imgs.cuda(), s2_model)"
      ],
      "metadata": {
        "id": "TYog2Bkt8Fgi"
      },
      "execution_count": null,
      "outputs": []
    },
    {
      "cell_type": "code",
      "source": [
        "fig, axes = plt.subplots(1, 3, figsize=(12, 4))\n",
        "axes[0].imshow(ndimage.median_filter(labels[0].numpy()[0], 3))\n",
        "axes[1].imshow(pred[0].cpu().detach().numpy()[0])\n",
        "axes[2].imshow(ndimage.median_filter(labels[0].numpy()[0], 3) - pred[0].cpu().detach().numpy()[0])"
      ],
      "metadata": {
        "id": "eONS19tm89Ee"
      },
      "execution_count": null,
      "outputs": []
    },
    {
      "cell_type": "markdown",
      "source": [
        "### Prediction"
      ],
      "metadata": {
        "id": "ggQYrsAQ37cU"
      }
    },
    {
      "cell_type": "code",
      "source": [
        "# os.makedirs(output_dir, exist_ok=True)\n",
        "# for chip_id in tqdm(pred_ids):\n",
        "#     image = get_image(os.path.join(test_img_dir, \n",
        "#                                    rf\"{chip_id}_{MODE}_10.tif\"))\n",
        "#     image = torch.tensor(image.astype(np.float32)[:10])\n",
        "#     image = (image - \n",
        "#               torch.tensor(MEANS).unsqueeze(1).unsqueeze(1))/torch.tensor(STDS).unsqueeze(1).unsqueeze(1)\n",
        "\n",
        "#     pred = s2_model(image.unsqueeze(0).cuda())\n",
        "#     img = pred.squeeze().cpu().detach().numpy()\n",
        "#     io.imsave(f\"{output_dir}/{chip_id}_agbm.tif\", img)"
      ],
      "metadata": {
        "id": "GpfvrQG83dRg"
      },
      "execution_count": null,
      "outputs": []
    },
    {
      "cell_type": "code",
      "source": [
        "# shutil.make_archive('submission', 'zip', output_dir)"
      ],
      "metadata": {
        "id": "ZHViXxf63dVL"
      },
      "execution_count": null,
      "outputs": []
    },
    {
      "cell_type": "code",
      "source": [
        "# from google.colab import files\n",
        "# files.download('submission.zip')"
      ],
      "metadata": {
        "id": "KbezI-A88kI2"
      },
      "execution_count": null,
      "outputs": []
    },
    {
      "cell_type": "code",
      "source": [],
      "metadata": {
        "id": "prGCKPh4_4cU"
      },
      "execution_count": null,
      "outputs": []
    }
  ]
}