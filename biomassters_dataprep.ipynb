{
  "nbformat": 4,
  "nbformat_minor": 0,
  "metadata": {
    "colab": {
      "provenance": [],
      "authorship_tag": "ABX9TyNXIheEvHI5h/nVcDNg7oS6",
      "include_colab_link": true
    },
    "kernelspec": {
      "name": "python3",
      "display_name": "Python 3"
    },
    "language_info": {
      "name": "python"
    },
    "gpuClass": "standard",
    "widgets": {
      "application/vnd.jupyter.widget-state+json": {
        "068ea80669ee4db29b64ae3cb6fa3809": {
          "model_module": "@jupyter-widgets/controls",
          "model_name": "HBoxModel",
          "model_module_version": "1.5.0",
          "state": {
            "_dom_classes": [],
            "_model_module": "@jupyter-widgets/controls",
            "_model_module_version": "1.5.0",
            "_model_name": "HBoxModel",
            "_view_count": null,
            "_view_module": "@jupyter-widgets/controls",
            "_view_module_version": "1.5.0",
            "_view_name": "HBoxView",
            "box_style": "",
            "children": [
              "IPY_MODEL_a51d0bffed9444e3937e25e81404c900",
              "IPY_MODEL_9be885b308e140c7a0a0abedf68cbe46",
              "IPY_MODEL_d29aca8615524c5da9196cf0a2cb01f4"
            ],
            "layout": "IPY_MODEL_dafb5933295844f9bdaddb8e8e7a979f"
          }
        },
        "a51d0bffed9444e3937e25e81404c900": {
          "model_module": "@jupyter-widgets/controls",
          "model_name": "HTMLModel",
          "model_module_version": "1.5.0",
          "state": {
            "_dom_classes": [],
            "_model_module": "@jupyter-widgets/controls",
            "_model_module_version": "1.5.0",
            "_model_name": "HTMLModel",
            "_view_count": null,
            "_view_module": "@jupyter-widgets/controls",
            "_view_module_version": "1.5.0",
            "_view_name": "HTMLView",
            "description": "",
            "description_tooltip": null,
            "layout": "IPY_MODEL_855692bad2cd4a0292b35a2ad91136e6",
            "placeholder": "​",
            "style": "IPY_MODEL_05a54edd5262452aa4a75c05511a9d3a",
            "value": "100%"
          }
        },
        "9be885b308e140c7a0a0abedf68cbe46": {
          "model_module": "@jupyter-widgets/controls",
          "model_name": "FloatProgressModel",
          "model_module_version": "1.5.0",
          "state": {
            "_dom_classes": [],
            "_model_module": "@jupyter-widgets/controls",
            "_model_module_version": "1.5.0",
            "_model_name": "FloatProgressModel",
            "_view_count": null,
            "_view_module": "@jupyter-widgets/controls",
            "_view_module_version": "1.5.0",
            "_view_name": "ProgressView",
            "bar_style": "success",
            "description": "",
            "description_tooltip": null,
            "layout": "IPY_MODEL_602af3da7efe46e7829770d0d34152fa",
            "max": 20,
            "min": 0,
            "orientation": "horizontal",
            "style": "IPY_MODEL_5a7dc6d794bd41218533e95fd84d47ad",
            "value": 20
          }
        },
        "d29aca8615524c5da9196cf0a2cb01f4": {
          "model_module": "@jupyter-widgets/controls",
          "model_name": "HTMLModel",
          "model_module_version": "1.5.0",
          "state": {
            "_dom_classes": [],
            "_model_module": "@jupyter-widgets/controls",
            "_model_module_version": "1.5.0",
            "_model_name": "HTMLModel",
            "_view_count": null,
            "_view_module": "@jupyter-widgets/controls",
            "_view_module_version": "1.5.0",
            "_view_name": "HTMLView",
            "description": "",
            "description_tooltip": null,
            "layout": "IPY_MODEL_3e1faf0650d44314b6cd3b0730bb4c5f",
            "placeholder": "​",
            "style": "IPY_MODEL_ae7155d7ed294c8086590bd3dfc99c65",
            "value": " 20/20 [01:52&lt;00:00,  5.56s/it]"
          }
        },
        "dafb5933295844f9bdaddb8e8e7a979f": {
          "model_module": "@jupyter-widgets/base",
          "model_name": "LayoutModel",
          "model_module_version": "1.2.0",
          "state": {
            "_model_module": "@jupyter-widgets/base",
            "_model_module_version": "1.2.0",
            "_model_name": "LayoutModel",
            "_view_count": null,
            "_view_module": "@jupyter-widgets/base",
            "_view_module_version": "1.2.0",
            "_view_name": "LayoutView",
            "align_content": null,
            "align_items": null,
            "align_self": null,
            "border": null,
            "bottom": null,
            "display": null,
            "flex": null,
            "flex_flow": null,
            "grid_area": null,
            "grid_auto_columns": null,
            "grid_auto_flow": null,
            "grid_auto_rows": null,
            "grid_column": null,
            "grid_gap": null,
            "grid_row": null,
            "grid_template_areas": null,
            "grid_template_columns": null,
            "grid_template_rows": null,
            "height": null,
            "justify_content": null,
            "justify_items": null,
            "left": null,
            "margin": null,
            "max_height": null,
            "max_width": null,
            "min_height": null,
            "min_width": null,
            "object_fit": null,
            "object_position": null,
            "order": null,
            "overflow": null,
            "overflow_x": null,
            "overflow_y": null,
            "padding": null,
            "right": null,
            "top": null,
            "visibility": null,
            "width": null
          }
        },
        "855692bad2cd4a0292b35a2ad91136e6": {
          "model_module": "@jupyter-widgets/base",
          "model_name": "LayoutModel",
          "model_module_version": "1.2.0",
          "state": {
            "_model_module": "@jupyter-widgets/base",
            "_model_module_version": "1.2.0",
            "_model_name": "LayoutModel",
            "_view_count": null,
            "_view_module": "@jupyter-widgets/base",
            "_view_module_version": "1.2.0",
            "_view_name": "LayoutView",
            "align_content": null,
            "align_items": null,
            "align_self": null,
            "border": null,
            "bottom": null,
            "display": null,
            "flex": null,
            "flex_flow": null,
            "grid_area": null,
            "grid_auto_columns": null,
            "grid_auto_flow": null,
            "grid_auto_rows": null,
            "grid_column": null,
            "grid_gap": null,
            "grid_row": null,
            "grid_template_areas": null,
            "grid_template_columns": null,
            "grid_template_rows": null,
            "height": null,
            "justify_content": null,
            "justify_items": null,
            "left": null,
            "margin": null,
            "max_height": null,
            "max_width": null,
            "min_height": null,
            "min_width": null,
            "object_fit": null,
            "object_position": null,
            "order": null,
            "overflow": null,
            "overflow_x": null,
            "overflow_y": null,
            "padding": null,
            "right": null,
            "top": null,
            "visibility": null,
            "width": null
          }
        },
        "05a54edd5262452aa4a75c05511a9d3a": {
          "model_module": "@jupyter-widgets/controls",
          "model_name": "DescriptionStyleModel",
          "model_module_version": "1.5.0",
          "state": {
            "_model_module": "@jupyter-widgets/controls",
            "_model_module_version": "1.5.0",
            "_model_name": "DescriptionStyleModel",
            "_view_count": null,
            "_view_module": "@jupyter-widgets/base",
            "_view_module_version": "1.2.0",
            "_view_name": "StyleView",
            "description_width": ""
          }
        },
        "602af3da7efe46e7829770d0d34152fa": {
          "model_module": "@jupyter-widgets/base",
          "model_name": "LayoutModel",
          "model_module_version": "1.2.0",
          "state": {
            "_model_module": "@jupyter-widgets/base",
            "_model_module_version": "1.2.0",
            "_model_name": "LayoutModel",
            "_view_count": null,
            "_view_module": "@jupyter-widgets/base",
            "_view_module_version": "1.2.0",
            "_view_name": "LayoutView",
            "align_content": null,
            "align_items": null,
            "align_self": null,
            "border": null,
            "bottom": null,
            "display": null,
            "flex": null,
            "flex_flow": null,
            "grid_area": null,
            "grid_auto_columns": null,
            "grid_auto_flow": null,
            "grid_auto_rows": null,
            "grid_column": null,
            "grid_gap": null,
            "grid_row": null,
            "grid_template_areas": null,
            "grid_template_columns": null,
            "grid_template_rows": null,
            "height": null,
            "justify_content": null,
            "justify_items": null,
            "left": null,
            "margin": null,
            "max_height": null,
            "max_width": null,
            "min_height": null,
            "min_width": null,
            "object_fit": null,
            "object_position": null,
            "order": null,
            "overflow": null,
            "overflow_x": null,
            "overflow_y": null,
            "padding": null,
            "right": null,
            "top": null,
            "visibility": null,
            "width": null
          }
        },
        "5a7dc6d794bd41218533e95fd84d47ad": {
          "model_module": "@jupyter-widgets/controls",
          "model_name": "ProgressStyleModel",
          "model_module_version": "1.5.0",
          "state": {
            "_model_module": "@jupyter-widgets/controls",
            "_model_module_version": "1.5.0",
            "_model_name": "ProgressStyleModel",
            "_view_count": null,
            "_view_module": "@jupyter-widgets/base",
            "_view_module_version": "1.2.0",
            "_view_name": "StyleView",
            "bar_color": null,
            "description_width": ""
          }
        },
        "3e1faf0650d44314b6cd3b0730bb4c5f": {
          "model_module": "@jupyter-widgets/base",
          "model_name": "LayoutModel",
          "model_module_version": "1.2.0",
          "state": {
            "_model_module": "@jupyter-widgets/base",
            "_model_module_version": "1.2.0",
            "_model_name": "LayoutModel",
            "_view_count": null,
            "_view_module": "@jupyter-widgets/base",
            "_view_module_version": "1.2.0",
            "_view_name": "LayoutView",
            "align_content": null,
            "align_items": null,
            "align_self": null,
            "border": null,
            "bottom": null,
            "display": null,
            "flex": null,
            "flex_flow": null,
            "grid_area": null,
            "grid_auto_columns": null,
            "grid_auto_flow": null,
            "grid_auto_rows": null,
            "grid_column": null,
            "grid_gap": null,
            "grid_row": null,
            "grid_template_areas": null,
            "grid_template_columns": null,
            "grid_template_rows": null,
            "height": null,
            "justify_content": null,
            "justify_items": null,
            "left": null,
            "margin": null,
            "max_height": null,
            "max_width": null,
            "min_height": null,
            "min_width": null,
            "object_fit": null,
            "object_position": null,
            "order": null,
            "overflow": null,
            "overflow_x": null,
            "overflow_y": null,
            "padding": null,
            "right": null,
            "top": null,
            "visibility": null,
            "width": null
          }
        },
        "ae7155d7ed294c8086590bd3dfc99c65": {
          "model_module": "@jupyter-widgets/controls",
          "model_name": "DescriptionStyleModel",
          "model_module_version": "1.5.0",
          "state": {
            "_model_module": "@jupyter-widgets/controls",
            "_model_module_version": "1.5.0",
            "_model_name": "DescriptionStyleModel",
            "_view_count": null,
            "_view_module": "@jupyter-widgets/base",
            "_view_module_version": "1.2.0",
            "_view_name": "StyleView",
            "description_width": ""
          }
        },
        "66c2f0477b3440c7a6f24ec6da208195": {
          "model_module": "@jupyter-widgets/controls",
          "model_name": "HBoxModel",
          "model_module_version": "1.5.0",
          "state": {
            "_dom_classes": [],
            "_model_module": "@jupyter-widgets/controls",
            "_model_module_version": "1.5.0",
            "_model_name": "HBoxModel",
            "_view_count": null,
            "_view_module": "@jupyter-widgets/controls",
            "_view_module_version": "1.5.0",
            "_view_name": "HBoxView",
            "box_style": "",
            "children": [
              "IPY_MODEL_af04459e4296400a8cf36dd36afef034",
              "IPY_MODEL_1d312be364524babac05ed1eee699408",
              "IPY_MODEL_f1b779faa66e41be88b19d6c163c1cb6"
            ],
            "layout": "IPY_MODEL_67d1d5c741004b3882a57304e34e177f"
          }
        },
        "af04459e4296400a8cf36dd36afef034": {
          "model_module": "@jupyter-widgets/controls",
          "model_name": "HTMLModel",
          "model_module_version": "1.5.0",
          "state": {
            "_dom_classes": [],
            "_model_module": "@jupyter-widgets/controls",
            "_model_module_version": "1.5.0",
            "_model_name": "HTMLModel",
            "_view_count": null,
            "_view_module": "@jupyter-widgets/controls",
            "_view_module_version": "1.5.0",
            "_view_name": "HTMLView",
            "description": "",
            "description_tooltip": null,
            "layout": "IPY_MODEL_d7a61dc733c14cf48b09ad9f7dfb3186",
            "placeholder": "​",
            "style": "IPY_MODEL_58db874b32324f6b89d1209abb759caf",
            "value": "  6%"
          }
        },
        "1d312be364524babac05ed1eee699408": {
          "model_module": "@jupyter-widgets/controls",
          "model_name": "FloatProgressModel",
          "model_module_version": "1.5.0",
          "state": {
            "_dom_classes": [],
            "_model_module": "@jupyter-widgets/controls",
            "_model_module_version": "1.5.0",
            "_model_name": "FloatProgressModel",
            "_view_count": null,
            "_view_module": "@jupyter-widgets/controls",
            "_view_module_version": "1.5.0",
            "_view_name": "ProgressView",
            "bar_style": "",
            "description": "",
            "description_tooltip": null,
            "layout": "IPY_MODEL_c0a8918cf6624842a73ad0f29b668988",
            "max": 2773,
            "min": 0,
            "orientation": "horizontal",
            "style": "IPY_MODEL_14e00e872706496394e1afdc972cb2a1",
            "value": 166
          }
        },
        "f1b779faa66e41be88b19d6c163c1cb6": {
          "model_module": "@jupyter-widgets/controls",
          "model_name": "HTMLModel",
          "model_module_version": "1.5.0",
          "state": {
            "_dom_classes": [],
            "_model_module": "@jupyter-widgets/controls",
            "_model_module_version": "1.5.0",
            "_model_name": "HTMLModel",
            "_view_count": null,
            "_view_module": "@jupyter-widgets/controls",
            "_view_module_version": "1.5.0",
            "_view_name": "HTMLView",
            "description": "",
            "description_tooltip": null,
            "layout": "IPY_MODEL_465630bc7c4946a79d4cf58d1912c8e0",
            "placeholder": "​",
            "style": "IPY_MODEL_e04f0910e95b4b3ba5f9d5fa3681460a",
            "value": " 166/2773 [12:29&lt;2:30:34,  3.47s/it]"
          }
        },
        "67d1d5c741004b3882a57304e34e177f": {
          "model_module": "@jupyter-widgets/base",
          "model_name": "LayoutModel",
          "model_module_version": "1.2.0",
          "state": {
            "_model_module": "@jupyter-widgets/base",
            "_model_module_version": "1.2.0",
            "_model_name": "LayoutModel",
            "_view_count": null,
            "_view_module": "@jupyter-widgets/base",
            "_view_module_version": "1.2.0",
            "_view_name": "LayoutView",
            "align_content": null,
            "align_items": null,
            "align_self": null,
            "border": null,
            "bottom": null,
            "display": null,
            "flex": null,
            "flex_flow": null,
            "grid_area": null,
            "grid_auto_columns": null,
            "grid_auto_flow": null,
            "grid_auto_rows": null,
            "grid_column": null,
            "grid_gap": null,
            "grid_row": null,
            "grid_template_areas": null,
            "grid_template_columns": null,
            "grid_template_rows": null,
            "height": null,
            "justify_content": null,
            "justify_items": null,
            "left": null,
            "margin": null,
            "max_height": null,
            "max_width": null,
            "min_height": null,
            "min_width": null,
            "object_fit": null,
            "object_position": null,
            "order": null,
            "overflow": null,
            "overflow_x": null,
            "overflow_y": null,
            "padding": null,
            "right": null,
            "top": null,
            "visibility": null,
            "width": null
          }
        },
        "d7a61dc733c14cf48b09ad9f7dfb3186": {
          "model_module": "@jupyter-widgets/base",
          "model_name": "LayoutModel",
          "model_module_version": "1.2.0",
          "state": {
            "_model_module": "@jupyter-widgets/base",
            "_model_module_version": "1.2.0",
            "_model_name": "LayoutModel",
            "_view_count": null,
            "_view_module": "@jupyter-widgets/base",
            "_view_module_version": "1.2.0",
            "_view_name": "LayoutView",
            "align_content": null,
            "align_items": null,
            "align_self": null,
            "border": null,
            "bottom": null,
            "display": null,
            "flex": null,
            "flex_flow": null,
            "grid_area": null,
            "grid_auto_columns": null,
            "grid_auto_flow": null,
            "grid_auto_rows": null,
            "grid_column": null,
            "grid_gap": null,
            "grid_row": null,
            "grid_template_areas": null,
            "grid_template_columns": null,
            "grid_template_rows": null,
            "height": null,
            "justify_content": null,
            "justify_items": null,
            "left": null,
            "margin": null,
            "max_height": null,
            "max_width": null,
            "min_height": null,
            "min_width": null,
            "object_fit": null,
            "object_position": null,
            "order": null,
            "overflow": null,
            "overflow_x": null,
            "overflow_y": null,
            "padding": null,
            "right": null,
            "top": null,
            "visibility": null,
            "width": null
          }
        },
        "58db874b32324f6b89d1209abb759caf": {
          "model_module": "@jupyter-widgets/controls",
          "model_name": "DescriptionStyleModel",
          "model_module_version": "1.5.0",
          "state": {
            "_model_module": "@jupyter-widgets/controls",
            "_model_module_version": "1.5.0",
            "_model_name": "DescriptionStyleModel",
            "_view_count": null,
            "_view_module": "@jupyter-widgets/base",
            "_view_module_version": "1.2.0",
            "_view_name": "StyleView",
            "description_width": ""
          }
        },
        "c0a8918cf6624842a73ad0f29b668988": {
          "model_module": "@jupyter-widgets/base",
          "model_name": "LayoutModel",
          "model_module_version": "1.2.0",
          "state": {
            "_model_module": "@jupyter-widgets/base",
            "_model_module_version": "1.2.0",
            "_model_name": "LayoutModel",
            "_view_count": null,
            "_view_module": "@jupyter-widgets/base",
            "_view_module_version": "1.2.0",
            "_view_name": "LayoutView",
            "align_content": null,
            "align_items": null,
            "align_self": null,
            "border": null,
            "bottom": null,
            "display": null,
            "flex": null,
            "flex_flow": null,
            "grid_area": null,
            "grid_auto_columns": null,
            "grid_auto_flow": null,
            "grid_auto_rows": null,
            "grid_column": null,
            "grid_gap": null,
            "grid_row": null,
            "grid_template_areas": null,
            "grid_template_columns": null,
            "grid_template_rows": null,
            "height": null,
            "justify_content": null,
            "justify_items": null,
            "left": null,
            "margin": null,
            "max_height": null,
            "max_width": null,
            "min_height": null,
            "min_width": null,
            "object_fit": null,
            "object_position": null,
            "order": null,
            "overflow": null,
            "overflow_x": null,
            "overflow_y": null,
            "padding": null,
            "right": null,
            "top": null,
            "visibility": null,
            "width": null
          }
        },
        "14e00e872706496394e1afdc972cb2a1": {
          "model_module": "@jupyter-widgets/controls",
          "model_name": "ProgressStyleModel",
          "model_module_version": "1.5.0",
          "state": {
            "_model_module": "@jupyter-widgets/controls",
            "_model_module_version": "1.5.0",
            "_model_name": "ProgressStyleModel",
            "_view_count": null,
            "_view_module": "@jupyter-widgets/base",
            "_view_module_version": "1.2.0",
            "_view_name": "StyleView",
            "bar_color": null,
            "description_width": ""
          }
        },
        "465630bc7c4946a79d4cf58d1912c8e0": {
          "model_module": "@jupyter-widgets/base",
          "model_name": "LayoutModel",
          "model_module_version": "1.2.0",
          "state": {
            "_model_module": "@jupyter-widgets/base",
            "_model_module_version": "1.2.0",
            "_model_name": "LayoutModel",
            "_view_count": null,
            "_view_module": "@jupyter-widgets/base",
            "_view_module_version": "1.2.0",
            "_view_name": "LayoutView",
            "align_content": null,
            "align_items": null,
            "align_self": null,
            "border": null,
            "bottom": null,
            "display": null,
            "flex": null,
            "flex_flow": null,
            "grid_area": null,
            "grid_auto_columns": null,
            "grid_auto_flow": null,
            "grid_auto_rows": null,
            "grid_column": null,
            "grid_gap": null,
            "grid_row": null,
            "grid_template_areas": null,
            "grid_template_columns": null,
            "grid_template_rows": null,
            "height": null,
            "justify_content": null,
            "justify_items": null,
            "left": null,
            "margin": null,
            "max_height": null,
            "max_width": null,
            "min_height": null,
            "min_width": null,
            "object_fit": null,
            "object_position": null,
            "order": null,
            "overflow": null,
            "overflow_x": null,
            "overflow_y": null,
            "padding": null,
            "right": null,
            "top": null,
            "visibility": null,
            "width": null
          }
        },
        "e04f0910e95b4b3ba5f9d5fa3681460a": {
          "model_module": "@jupyter-widgets/controls",
          "model_name": "DescriptionStyleModel",
          "model_module_version": "1.5.0",
          "state": {
            "_model_module": "@jupyter-widgets/controls",
            "_model_module_version": "1.5.0",
            "_model_name": "DescriptionStyleModel",
            "_view_count": null,
            "_view_module": "@jupyter-widgets/base",
            "_view_module_version": "1.2.0",
            "_view_name": "StyleView",
            "description_width": ""
          }
        },
        "95708cd3c629498ebc4cb9f2f328d49a": {
          "model_module": "@jupyter-widgets/controls",
          "model_name": "HBoxModel",
          "model_module_version": "1.5.0",
          "state": {
            "_dom_classes": [],
            "_model_module": "@jupyter-widgets/controls",
            "_model_module_version": "1.5.0",
            "_model_name": "HBoxModel",
            "_view_count": null,
            "_view_module": "@jupyter-widgets/controls",
            "_view_module_version": "1.5.0",
            "_view_name": "HBoxView",
            "box_style": "",
            "children": [
              "IPY_MODEL_2c66ded911f8489fb7a9f2472f4a8260",
              "IPY_MODEL_085a418db2084dc5b62f6b602d75be0d",
              "IPY_MODEL_3d95379f4c9c4ddab935c32e4422200d"
            ],
            "layout": "IPY_MODEL_5780d1cf96614731b2931fdc62c90212"
          }
        },
        "2c66ded911f8489fb7a9f2472f4a8260": {
          "model_module": "@jupyter-widgets/controls",
          "model_name": "HTMLModel",
          "model_module_version": "1.5.0",
          "state": {
            "_dom_classes": [],
            "_model_module": "@jupyter-widgets/controls",
            "_model_module_version": "1.5.0",
            "_model_name": "HTMLModel",
            "_view_count": null,
            "_view_module": "@jupyter-widgets/controls",
            "_view_module_version": "1.5.0",
            "_view_name": "HTMLView",
            "description": "",
            "description_tooltip": null,
            "layout": "IPY_MODEL_10ca48b8139648218368617327907901",
            "placeholder": "​",
            "style": "IPY_MODEL_254f6c743b5748ac8a1522f51e93be68",
            "value": "100%"
          }
        },
        "085a418db2084dc5b62f6b602d75be0d": {
          "model_module": "@jupyter-widgets/controls",
          "model_name": "FloatProgressModel",
          "model_module_version": "1.5.0",
          "state": {
            "_dom_classes": [],
            "_model_module": "@jupyter-widgets/controls",
            "_model_module_version": "1.5.0",
            "_model_name": "FloatProgressModel",
            "_view_count": null,
            "_view_module": "@jupyter-widgets/controls",
            "_view_module_version": "1.5.0",
            "_view_name": "ProgressView",
            "bar_style": "success",
            "description": "",
            "description_tooltip": null,
            "layout": "IPY_MODEL_7e9f3639c01b414ea9308fc973f50177",
            "max": 20,
            "min": 0,
            "orientation": "horizontal",
            "style": "IPY_MODEL_855c31f17a9a4df28281a38532c6c3b0",
            "value": 20
          }
        },
        "3d95379f4c9c4ddab935c32e4422200d": {
          "model_module": "@jupyter-widgets/controls",
          "model_name": "HTMLModel",
          "model_module_version": "1.5.0",
          "state": {
            "_dom_classes": [],
            "_model_module": "@jupyter-widgets/controls",
            "_model_module_version": "1.5.0",
            "_model_name": "HTMLModel",
            "_view_count": null,
            "_view_module": "@jupyter-widgets/controls",
            "_view_module_version": "1.5.0",
            "_view_name": "HTMLView",
            "description": "",
            "description_tooltip": null,
            "layout": "IPY_MODEL_81ff6ca4796d4cacae5e26f3a1c08b70",
            "placeholder": "​",
            "style": "IPY_MODEL_5f0ff9fa5d6b40b9b67148eb28ec0e86",
            "value": " 20/20 [01:26&lt;00:00,  4.42s/it]"
          }
        },
        "5780d1cf96614731b2931fdc62c90212": {
          "model_module": "@jupyter-widgets/base",
          "model_name": "LayoutModel",
          "model_module_version": "1.2.0",
          "state": {
            "_model_module": "@jupyter-widgets/base",
            "_model_module_version": "1.2.0",
            "_model_name": "LayoutModel",
            "_view_count": null,
            "_view_module": "@jupyter-widgets/base",
            "_view_module_version": "1.2.0",
            "_view_name": "LayoutView",
            "align_content": null,
            "align_items": null,
            "align_self": null,
            "border": null,
            "bottom": null,
            "display": null,
            "flex": null,
            "flex_flow": null,
            "grid_area": null,
            "grid_auto_columns": null,
            "grid_auto_flow": null,
            "grid_auto_rows": null,
            "grid_column": null,
            "grid_gap": null,
            "grid_row": null,
            "grid_template_areas": null,
            "grid_template_columns": null,
            "grid_template_rows": null,
            "height": null,
            "justify_content": null,
            "justify_items": null,
            "left": null,
            "margin": null,
            "max_height": null,
            "max_width": null,
            "min_height": null,
            "min_width": null,
            "object_fit": null,
            "object_position": null,
            "order": null,
            "overflow": null,
            "overflow_x": null,
            "overflow_y": null,
            "padding": null,
            "right": null,
            "top": null,
            "visibility": null,
            "width": null
          }
        },
        "10ca48b8139648218368617327907901": {
          "model_module": "@jupyter-widgets/base",
          "model_name": "LayoutModel",
          "model_module_version": "1.2.0",
          "state": {
            "_model_module": "@jupyter-widgets/base",
            "_model_module_version": "1.2.0",
            "_model_name": "LayoutModel",
            "_view_count": null,
            "_view_module": "@jupyter-widgets/base",
            "_view_module_version": "1.2.0",
            "_view_name": "LayoutView",
            "align_content": null,
            "align_items": null,
            "align_self": null,
            "border": null,
            "bottom": null,
            "display": null,
            "flex": null,
            "flex_flow": null,
            "grid_area": null,
            "grid_auto_columns": null,
            "grid_auto_flow": null,
            "grid_auto_rows": null,
            "grid_column": null,
            "grid_gap": null,
            "grid_row": null,
            "grid_template_areas": null,
            "grid_template_columns": null,
            "grid_template_rows": null,
            "height": null,
            "justify_content": null,
            "justify_items": null,
            "left": null,
            "margin": null,
            "max_height": null,
            "max_width": null,
            "min_height": null,
            "min_width": null,
            "object_fit": null,
            "object_position": null,
            "order": null,
            "overflow": null,
            "overflow_x": null,
            "overflow_y": null,
            "padding": null,
            "right": null,
            "top": null,
            "visibility": null,
            "width": null
          }
        },
        "254f6c743b5748ac8a1522f51e93be68": {
          "model_module": "@jupyter-widgets/controls",
          "model_name": "DescriptionStyleModel",
          "model_module_version": "1.5.0",
          "state": {
            "_model_module": "@jupyter-widgets/controls",
            "_model_module_version": "1.5.0",
            "_model_name": "DescriptionStyleModel",
            "_view_count": null,
            "_view_module": "@jupyter-widgets/base",
            "_view_module_version": "1.2.0",
            "_view_name": "StyleView",
            "description_width": ""
          }
        },
        "7e9f3639c01b414ea9308fc973f50177": {
          "model_module": "@jupyter-widgets/base",
          "model_name": "LayoutModel",
          "model_module_version": "1.2.0",
          "state": {
            "_model_module": "@jupyter-widgets/base",
            "_model_module_version": "1.2.0",
            "_model_name": "LayoutModel",
            "_view_count": null,
            "_view_module": "@jupyter-widgets/base",
            "_view_module_version": "1.2.0",
            "_view_name": "LayoutView",
            "align_content": null,
            "align_items": null,
            "align_self": null,
            "border": null,
            "bottom": null,
            "display": null,
            "flex": null,
            "flex_flow": null,
            "grid_area": null,
            "grid_auto_columns": null,
            "grid_auto_flow": null,
            "grid_auto_rows": null,
            "grid_column": null,
            "grid_gap": null,
            "grid_row": null,
            "grid_template_areas": null,
            "grid_template_columns": null,
            "grid_template_rows": null,
            "height": null,
            "justify_content": null,
            "justify_items": null,
            "left": null,
            "margin": null,
            "max_height": null,
            "max_width": null,
            "min_height": null,
            "min_width": null,
            "object_fit": null,
            "object_position": null,
            "order": null,
            "overflow": null,
            "overflow_x": null,
            "overflow_y": null,
            "padding": null,
            "right": null,
            "top": null,
            "visibility": null,
            "width": null
          }
        },
        "855c31f17a9a4df28281a38532c6c3b0": {
          "model_module": "@jupyter-widgets/controls",
          "model_name": "ProgressStyleModel",
          "model_module_version": "1.5.0",
          "state": {
            "_model_module": "@jupyter-widgets/controls",
            "_model_module_version": "1.5.0",
            "_model_name": "ProgressStyleModel",
            "_view_count": null,
            "_view_module": "@jupyter-widgets/base",
            "_view_module_version": "1.2.0",
            "_view_name": "StyleView",
            "bar_color": null,
            "description_width": ""
          }
        },
        "81ff6ca4796d4cacae5e26f3a1c08b70": {
          "model_module": "@jupyter-widgets/base",
          "model_name": "LayoutModel",
          "model_module_version": "1.2.0",
          "state": {
            "_model_module": "@jupyter-widgets/base",
            "_model_module_version": "1.2.0",
            "_model_name": "LayoutModel",
            "_view_count": null,
            "_view_module": "@jupyter-widgets/base",
            "_view_module_version": "1.2.0",
            "_view_name": "LayoutView",
            "align_content": null,
            "align_items": null,
            "align_self": null,
            "border": null,
            "bottom": null,
            "display": null,
            "flex": null,
            "flex_flow": null,
            "grid_area": null,
            "grid_auto_columns": null,
            "grid_auto_flow": null,
            "grid_auto_rows": null,
            "grid_column": null,
            "grid_gap": null,
            "grid_row": null,
            "grid_template_areas": null,
            "grid_template_columns": null,
            "grid_template_rows": null,
            "height": null,
            "justify_content": null,
            "justify_items": null,
            "left": null,
            "margin": null,
            "max_height": null,
            "max_width": null,
            "min_height": null,
            "min_width": null,
            "object_fit": null,
            "object_position": null,
            "order": null,
            "overflow": null,
            "overflow_x": null,
            "overflow_y": null,
            "padding": null,
            "right": null,
            "top": null,
            "visibility": null,
            "width": null
          }
        },
        "5f0ff9fa5d6b40b9b67148eb28ec0e86": {
          "model_module": "@jupyter-widgets/controls",
          "model_name": "DescriptionStyleModel",
          "model_module_version": "1.5.0",
          "state": {
            "_model_module": "@jupyter-widgets/controls",
            "_model_module_version": "1.5.0",
            "_model_name": "DescriptionStyleModel",
            "_view_count": null,
            "_view_module": "@jupyter-widgets/base",
            "_view_module_version": "1.2.0",
            "_view_name": "StyleView",
            "description_width": ""
          }
        }
      }
    }
  },
  "cells": [
    {
      "cell_type": "markdown",
      "metadata": {
        "id": "view-in-github",
        "colab_type": "text"
      },
      "source": [
        "<a href=\"https://colab.research.google.com/github/amedyukhina/biomassters/blob/main/biomassters_dataprep.ipynb\" target=\"_parent\"><img src=\"https://colab.research.google.com/assets/colab-badge.svg\" alt=\"Open In Colab\"/></a>"
      ]
    },
    {
      "cell_type": "code",
      "execution_count": 1,
      "metadata": {
        "colab": {
          "base_uri": "https://localhost:8080/"
        },
        "id": "cx6C6_iftB_Q",
        "outputId": "bdaa00fe-b996-4612-be71-a1938764333c"
      },
      "outputs": [
        {
          "output_type": "stream",
          "name": "stdout",
          "text": [
            "Writing requirements.txt\n"
          ]
        }
      ],
      "source": [
        "%%writefile requirements.txt\n",
        "\n",
        "pandas==1.3.5\n",
        "tqdm==4.64.0\n",
        "numpy==1.21.6\n",
        "scikit-image==0.18.3\n",
        "matplotlib==3.2.2\n",
        "rasterio==1.2.0\n",
        "boto3==1.26.16"
      ]
    },
    {
      "cell_type": "code",
      "source": [
        "!pip install -r requirements.txt"
      ],
      "metadata": {
        "colab": {
          "base_uri": "https://localhost:8080/"
        },
        "id": "6MJpKepBtPk4",
        "outputId": "2ef4ec10-5af0-47e8-e6ef-cc198e2d7e2f"
      },
      "execution_count": 2,
      "outputs": [
        {
          "output_type": "stream",
          "name": "stdout",
          "text": [
            "Looking in indexes: https://pypi.org/simple, https://us-python.pkg.dev/colab-wheels/public/simple/\n",
            "Requirement already satisfied: pandas==1.3.5 in /usr/local/lib/python3.8/dist-packages (from -r requirements.txt (line 2)) (1.3.5)\n",
            "Collecting tqdm==4.64.0\n",
            "  Downloading tqdm-4.64.0-py2.py3-none-any.whl (78 kB)\n",
            "\u001b[2K     \u001b[90m━━━━━━━━━━━━━━━━━━━━━━━━━━━━━━━━━━━━━━━━\u001b[0m \u001b[32m78.4/78.4 KB\u001b[0m \u001b[31m2.3 MB/s\u001b[0m eta \u001b[36m0:00:00\u001b[0m\n",
            "\u001b[?25hRequirement already satisfied: numpy==1.21.6 in /usr/local/lib/python3.8/dist-packages (from -r requirements.txt (line 4)) (1.21.6)\n",
            "Requirement already satisfied: scikit-image==0.18.3 in /usr/local/lib/python3.8/dist-packages (from -r requirements.txt (line 5)) (0.18.3)\n",
            "Requirement already satisfied: matplotlib==3.2.2 in /usr/local/lib/python3.8/dist-packages (from -r requirements.txt (line 6)) (3.2.2)\n",
            "Collecting rasterio==1.2.0\n",
            "  Downloading rasterio-1.2.0-cp38-cp38-manylinux1_x86_64.whl (19.1 MB)\n",
            "\u001b[2K     \u001b[90m━━━━━━━━━━━━━━━━━━━━━━━━━━━━━━━━━━━━━━━━\u001b[0m \u001b[32m19.1/19.1 MB\u001b[0m \u001b[31m11.0 MB/s\u001b[0m eta \u001b[36m0:00:00\u001b[0m\n",
            "\u001b[?25hCollecting boto3==1.26.16\n",
            "  Downloading boto3-1.26.16-py3-none-any.whl (132 kB)\n",
            "\u001b[2K     \u001b[90m━━━━━━━━━━━━━━━━━━━━━━━━━━━━━━━━━━━━━━━\u001b[0m \u001b[32m132.5/132.5 KB\u001b[0m \u001b[31m1.1 MB/s\u001b[0m eta \u001b[36m0:00:00\u001b[0m\n",
            "\u001b[?25hRequirement already satisfied: pytz>=2017.3 in /usr/local/lib/python3.8/dist-packages (from pandas==1.3.5->-r requirements.txt (line 2)) (2022.7)\n",
            "Requirement already satisfied: python-dateutil>=2.7.3 in /usr/local/lib/python3.8/dist-packages (from pandas==1.3.5->-r requirements.txt (line 2)) (2.8.2)\n",
            "Requirement already satisfied: pillow!=7.1.0,!=7.1.1,>=4.3.0 in /usr/local/lib/python3.8/dist-packages (from scikit-image==0.18.3->-r requirements.txt (line 5)) (7.1.2)\n",
            "Requirement already satisfied: PyWavelets>=1.1.1 in /usr/local/lib/python3.8/dist-packages (from scikit-image==0.18.3->-r requirements.txt (line 5)) (1.4.1)\n",
            "Requirement already satisfied: imageio>=2.3.0 in /usr/local/lib/python3.8/dist-packages (from scikit-image==0.18.3->-r requirements.txt (line 5)) (2.9.0)\n",
            "Requirement already satisfied: scipy>=1.0.1 in /usr/local/lib/python3.8/dist-packages (from scikit-image==0.18.3->-r requirements.txt (line 5)) (1.7.3)\n",
            "Requirement already satisfied: tifffile>=2019.7.26 in /usr/local/lib/python3.8/dist-packages (from scikit-image==0.18.3->-r requirements.txt (line 5)) (2022.10.10)\n",
            "Requirement already satisfied: networkx>=2.0 in /usr/local/lib/python3.8/dist-packages (from scikit-image==0.18.3->-r requirements.txt (line 5)) (3.0)\n",
            "Requirement already satisfied: pyparsing!=2.0.4,!=2.1.2,!=2.1.6,>=2.0.1 in /usr/local/lib/python3.8/dist-packages (from matplotlib==3.2.2->-r requirements.txt (line 6)) (3.0.9)\n",
            "Requirement already satisfied: cycler>=0.10 in /usr/local/lib/python3.8/dist-packages (from matplotlib==3.2.2->-r requirements.txt (line 6)) (0.11.0)\n",
            "Requirement already satisfied: kiwisolver>=1.0.1 in /usr/local/lib/python3.8/dist-packages (from matplotlib==3.2.2->-r requirements.txt (line 6)) (1.4.4)\n",
            "Collecting click-plugins\n",
            "  Downloading click_plugins-1.1.1-py2.py3-none-any.whl (7.5 kB)\n",
            "Requirement already satisfied: certifi in /usr/local/lib/python3.8/dist-packages (from rasterio==1.2.0->-r requirements.txt (line 7)) (2022.12.7)\n",
            "Requirement already satisfied: click<8,>=4.0 in /usr/local/lib/python3.8/dist-packages (from rasterio==1.2.0->-r requirements.txt (line 7)) (7.1.2)\n",
            "Collecting snuggs>=1.4.1\n",
            "  Downloading snuggs-1.4.7-py3-none-any.whl (5.4 kB)\n",
            "Collecting cligj>=0.5\n",
            "  Downloading cligj-0.7.2-py3-none-any.whl (7.1 kB)\n",
            "Requirement already satisfied: attrs in /usr/local/lib/python3.8/dist-packages (from rasterio==1.2.0->-r requirements.txt (line 7)) (22.2.0)\n",
            "Collecting affine\n",
            "  Downloading affine-2.4.0-py3-none-any.whl (15 kB)\n",
            "Collecting botocore<1.30.0,>=1.29.16\n",
            "  Downloading botocore-1.29.56-py3-none-any.whl (10.3 MB)\n",
            "\u001b[2K     \u001b[90m━━━━━━━━━━━━━━━━━━━━━━━━━━━━━━━━━━━━━━━━\u001b[0m \u001b[32m10.3/10.3 MB\u001b[0m \u001b[31m19.2 MB/s\u001b[0m eta \u001b[36m0:00:00\u001b[0m\n",
            "\u001b[?25hCollecting jmespath<2.0.0,>=0.7.1\n",
            "  Downloading jmespath-1.0.1-py3-none-any.whl (20 kB)\n",
            "Collecting s3transfer<0.7.0,>=0.6.0\n",
            "  Downloading s3transfer-0.6.0-py3-none-any.whl (79 kB)\n",
            "\u001b[2K     \u001b[90m━━━━━━━━━━━━━━━━━━━━━━━━━━━━━━━━━━━━━━━━\u001b[0m \u001b[32m79.6/79.6 KB\u001b[0m \u001b[31m2.7 MB/s\u001b[0m eta \u001b[36m0:00:00\u001b[0m\n",
            "\u001b[?25hCollecting urllib3<1.27,>=1.25.4\n",
            "  Downloading urllib3-1.26.14-py2.py3-none-any.whl (140 kB)\n",
            "\u001b[2K     \u001b[90m━━━━━━━━━━━━━━━━━━━━━━━━━━━━━━━━━━━━━━━\u001b[0m \u001b[32m140.6/140.6 KB\u001b[0m \u001b[31m5.2 MB/s\u001b[0m eta \u001b[36m0:00:00\u001b[0m\n",
            "\u001b[?25hRequirement already satisfied: six>=1.5 in /usr/local/lib/python3.8/dist-packages (from python-dateutil>=2.7.3->pandas==1.3.5->-r requirements.txt (line 2)) (1.15.0)\n",
            "Installing collected packages: urllib3, tqdm, snuggs, jmespath, cligj, click-plugins, affine, rasterio, botocore, s3transfer, boto3\n",
            "  Attempting uninstall: urllib3\n",
            "    Found existing installation: urllib3 1.24.3\n",
            "    Uninstalling urllib3-1.24.3:\n",
            "      Successfully uninstalled urllib3-1.24.3\n",
            "  Attempting uninstall: tqdm\n",
            "    Found existing installation: tqdm 4.64.1\n",
            "    Uninstalling tqdm-4.64.1:\n",
            "      Successfully uninstalled tqdm-4.64.1\n",
            "Successfully installed affine-2.4.0 boto3-1.26.16 botocore-1.29.56 click-plugins-1.1.1 cligj-0.7.2 jmespath-1.0.1 rasterio-1.2.0 s3transfer-0.6.0 snuggs-1.4.7 tqdm-4.64.0 urllib3-1.26.14\n"
          ]
        }
      ]
    },
    {
      "cell_type": "code",
      "source": [
        "from google.colab import drive\n",
        "import os\n",
        "import rasterio\n",
        "import pandas as pd\n",
        "from tqdm import tqdm\n",
        "import numpy as np\n",
        "from skimage import io\n",
        "\n",
        "import boto3\n",
        "from botocore import UNSIGNED\n",
        "from botocore.config import Config\n",
        "\n",
        "from cachetools import cached, TTLCache\n",
        "\n",
        "import warnings\n",
        "from tqdm.notebook import tqdm\n",
        "import shutil\n",
        "\n",
        "# Our rasters contain no geolocation info, so silence this warning from rasterio\n",
        "warnings.filterwarnings(\"ignore\", category=rasterio.errors.NotGeoreferencedWarning)"
      ],
      "metadata": {
        "id": "8Im8wt6KtRot"
      },
      "execution_count": 3,
      "outputs": []
    },
    {
      "cell_type": "code",
      "source": [
        "drive.mount('/content/gdrive')"
      ],
      "metadata": {
        "colab": {
          "base_uri": "https://localhost:8080/"
        },
        "id": "nb9UyntbtSEu",
        "outputId": "64e815d0-4cb9-4a1c-abbc-9fa9202cc469"
      },
      "execution_count": 4,
      "outputs": [
        {
          "output_type": "stream",
          "name": "stdout",
          "text": [
            "Mounted at /content/gdrive\n"
          ]
        }
      ]
    },
    {
      "cell_type": "markdown",
      "source": [
        "### Prepare list of chip IDs"
      ],
      "metadata": {
        "id": "_dEE28TBs1ps"
      }
    },
    {
      "cell_type": "code",
      "source": [
        "feature_path = 'gdrive/MyDrive/biomassters/info/features_metadata.csv'\n",
        "data_path = 'gdrive/MyDrive/biomassters/data/'\n",
        "train_img_dir = 'train_features'\n",
        "test_img_dir = 'test_features'\n",
        "label_dir = 'train_agbm'\n",
        "ntrain = 200\n",
        "nval = 20\n",
        "nmeans = 100"
      ],
      "metadata": {
        "id": "eH_DBwXlaioL"
      },
      "execution_count": 5,
      "outputs": []
    },
    {
      "cell_type": "code",
      "source": [
        "df = pd.read_csv(feature_path)"
      ],
      "metadata": {
        "id": "IbzAKgvbzPC4"
      },
      "execution_count": 6,
      "outputs": []
    },
    {
      "cell_type": "code",
      "source": [
        "df_pred = df[df['split'] == 'test'].reset_index(drop=True)\n",
        "pred_ids = np.unique(df_pred['chip_id'])\n",
        "len(df_pred), len(pred_ids)"
      ],
      "metadata": {
        "colab": {
          "base_uri": "https://localhost:8080/"
        },
        "id": "V5RMmNXrbUnI",
        "outputId": "167f6fb0-9715-490d-d026-e910d789939d"
      },
      "execution_count": 7,
      "outputs": [
        {
          "output_type": "execute_result",
          "data": {
            "text/plain": [
              "(63348, 2773)"
            ]
          },
          "metadata": {},
          "execution_count": 7
        }
      ]
    },
    {
      "cell_type": "code",
      "source": [
        "df = df[df['split'] == 'train'].reset_index(drop=True)\n",
        "all_ids = np.unique(df['chip_id'])\n",
        "len(df), len(all_ids)"
      ],
      "metadata": {
        "colab": {
          "base_uri": "https://localhost:8080/"
        },
        "id": "uZz78WYMbUs5",
        "outputId": "9a74fb51-7c6c-4c49-9a1a-986d4674c556"
      },
      "execution_count": 8,
      "outputs": [
        {
          "output_type": "execute_result",
          "data": {
            "text/plain": [
              "(189078, 8689)"
            ]
          },
          "metadata": {},
          "execution_count": 8
        }
      ]
    },
    {
      "cell_type": "code",
      "source": [
        "np.random.seed(42)\n",
        "np.random.shuffle(all_ids)"
      ],
      "metadata": {
        "id": "vEsVp_7BsBYZ"
      },
      "execution_count": 9,
      "outputs": []
    },
    {
      "cell_type": "code",
      "source": [
        "train_ids = all_ids[:ntrain]\n",
        "val_ids = all_ids[ntrain:ntrain+nval]"
      ],
      "metadata": {
        "id": "VyAvBLxPsXL7"
      },
      "execution_count": 10,
      "outputs": []
    },
    {
      "cell_type": "markdown",
      "source": [
        "### Set up data loading"
      ],
      "metadata": {
        "id": "3UjNA0fHs_Yq"
      }
    },
    {
      "cell_type": "code",
      "source": [
        "BUCKET_NAME = 'drivendata-competition-biomassters-public-us'\n",
        "os.environ[\"AWS_NO_SIGN_REQUEST\"] = 'YES'\n",
        "s3 = boto3.client('s3', config=Config(signature_version=UNSIGNED))"
      ],
      "metadata": {
        "id": "N4a69Qr04ooC"
      },
      "execution_count": 11,
      "outputs": []
    },
    {
      "cell_type": "code",
      "source": [
        "cache = TTLCache(maxsize=1000, ttl=86400)"
      ],
      "metadata": {
        "id": "lP_tzGsX8Ayj"
      },
      "execution_count": 12,
      "outputs": []
    },
    {
      "cell_type": "code",
      "source": [
        "# @cached(cache)\n",
        "# def get_image(fn):\n",
        "#   obj = s3.get_object(Bucket=BUCKET_NAME, Key=fn)\n",
        "#   with rasterio.open(obj['Body']) as src:\n",
        "#     img = src.read()\n",
        "#   return img\n",
        "\n",
        "@cached(cache)\n",
        "def get_image(fn):\n",
        "    img = io.imread(fn)\n",
        "    if img.shape[-1] < 20:\n",
        "        img = np.moveaxis(img, -1, 0)\n",
        "    return img"
      ],
      "metadata": {
        "id": "nL07qrNR4WSk"
      },
      "execution_count": 13,
      "outputs": []
    },
    {
      "cell_type": "markdown",
      "source": [
        "### Calculate mean and std of the dataset + save images to gdrive"
      ],
      "metadata": {
        "id": "NVd9CRqWvPNt"
      }
    },
    {
      "cell_type": "code",
      "source": [
        "# # training data\n",
        "# os.makedirs(data_path + train_img_dir, exist_ok=True)\n",
        "# os.makedirs(data_path + label_dir, exist_ok=True)\n",
        "# imgs_s1 = []\n",
        "# imgs_s2 = []\n",
        "# it = 0\n",
        "# with warnings.catch_warnings():\n",
        "#     warnings.simplefilter(\"ignore\")\n",
        "#     for chip_id in tqdm(train_ids):\n",
        "#         for month in range(12):\n",
        "#             img = get_image(os.path.join(train_img_dir, \n",
        "#                                         rf\"{chip_id}_S1_{month:02d}.tif\")).astype(np.float32)   \n",
        "#             io.imsave(os.path.join(data_path, train_img_dir, \n",
        "#                                   rf\"{chip_id}_S1_{month:02d}.tif\"), \n",
        "#                       img.astype(np.float32))   \n",
        "#             if it < nmeans:                     \n",
        "#                 imgs_s1.append(img)\n",
        "\n",
        "#             try:\n",
        "#                 img = get_image(os.path.join(train_img_dir, \n",
        "#                                             rf\"{chip_id}_S2_{month:02d}.tif\")).astype(np.float32)\n",
        "#                 io.imsave(os.path.join(data_path, train_img_dir, \n",
        "#                                       rf\"{chip_id}_S2_{month:02d}.tif\"), \n",
        "#                           img.astype(np.uint16))   \n",
        "#                 if it < nmeans:                         \n",
        "#                     imgs_s2.append(img)\n",
        "#             except:\n",
        "#                 pass\n",
        "\n",
        "#         label = get_image(os.path.join(label_dir, \n",
        "#                                         rf\"{chip_id}_agbm.tif\"))\n",
        "#         io.imsave(os.path.join(data_path, label_dir, \n",
        "#                                 rf\"{chip_id}_agbm.tif\"), \n",
        "#                   label.astype(np.uint16))\n",
        "#         it += 1\n",
        "\n",
        "# imgs_s1 = np.array(imgs_s1)\n",
        "# imgs_s2 = np.array(imgs_s2)"
      ],
      "metadata": {
        "id": "1ERXYHQ5vSy-"
      },
      "execution_count": 14,
      "outputs": []
    },
    {
      "cell_type": "code",
      "source": [
        "\n",
        "imgs_s1 = []\n",
        "imgs_s2 = []\n",
        "it = 0\n",
        "for chip_id in tqdm(train_ids):\n",
        "    for month in range(12):\n",
        "        img = get_image(os.path.join(data_path + train_img_dir, \n",
        "                                    rf\"{chip_id}_S1_{month:02d}.tif\")).astype(np.float32)   \n",
        "        if it < nmeans:                     \n",
        "            imgs_s1.append(img)\n",
        "\n",
        "        try:\n",
        "            img = get_image(os.path.join(data_path + train_img_dir, \n",
        "                                        rf\"{chip_id}_S2_{month:02d}.tif\")).astype(np.float32)\n",
        "            if it < nmeans:                         \n",
        "                imgs_s2.append(img)\n",
        "        except:\n",
        "            pass\n",
        "    it += 1\n",
        "\n",
        "imgs_s1 = np.array(imgs_s1)\n",
        "imgs_s2 = np.array(imgs_s2)"
      ],
      "metadata": {
        "colab": {
          "base_uri": "https://localhost:8080/",
          "height": 49,
          "referenced_widgets": [
            "95708cd3c629498ebc4cb9f2f328d49a",
            "2c66ded911f8489fb7a9f2472f4a8260",
            "085a418db2084dc5b62f6b602d75be0d",
            "3d95379f4c9c4ddab935c32e4422200d",
            "5780d1cf96614731b2931fdc62c90212",
            "10ca48b8139648218368617327907901",
            "254f6c743b5748ac8a1522f51e93be68",
            "7e9f3639c01b414ea9308fc973f50177",
            "855c31f17a9a4df28281a38532c6c3b0",
            "81ff6ca4796d4cacae5e26f3a1c08b70",
            "5f0ff9fa5d6b40b9b67148eb28ec0e86"
          ]
        },
        "id": "eT-wMKRsx0t5",
        "outputId": "90f0c844-8ec6-4350-be13-a9913f823624"
      },
      "execution_count": 18,
      "outputs": [
        {
          "output_type": "display_data",
          "data": {
            "text/plain": [
              "  0%|          | 0/20 [00:00<?, ?it/s]"
            ],
            "application/vnd.jupyter.widget-view+json": {
              "version_major": 2,
              "version_minor": 0,
              "model_id": "95708cd3c629498ebc4cb9f2f328d49a"
            }
          },
          "metadata": {}
        }
      ]
    },
    {
      "cell_type": "code",
      "source": [
        "imgs = imgs_s1\n",
        "MEANS = np.array([imgs[:,i][np.where(imgs[:,i] != -9999)].mean() for i in range(imgs.shape[1])])\n",
        "STDS = np.array([imgs[j,i].std() for j in range(imgs.shape[0]) \n",
        "  for i in range(imgs.shape[1])]).reshape((imgs.shape[:2])).mean(0)\n",
        "np.save(data_path + 's1_mean_std.npy', [MEANS, STDS])\n",
        "MEANS, STDS"
      ],
      "metadata": {
        "colab": {
          "base_uri": "https://localhost:8080/"
        },
        "id": "X9Ygifj5wr14",
        "outputId": "05acca67-ccc5-4823-f7bd-1632295f0da3"
      },
      "execution_count": 46,
      "outputs": [
        {
          "output_type": "execute_result",
          "data": {
            "text/plain": [
              "(array([-11.454795 , -18.013327 , -11.5029745, -18.152424 ], dtype=float32),\n",
              " array([2.2330995, 2.964378 , 2.0271204, 2.6701245], dtype=float32))"
            ]
          },
          "metadata": {},
          "execution_count": 46
        }
      ]
    },
    {
      "cell_type": "code",
      "source": [
        "imgs = imgs_s2\n",
        "MEANS = np.array([imgs[:,i].mean() for i in range(imgs.shape[1])])\n",
        "STDS = np.array([imgs[j,i].std() for j in range(imgs.shape[0]) \n",
        "  for i in range(imgs.shape[1])]).reshape((imgs.shape[:2])).mean(0)\n",
        "np.save(data_path + 's2_mean_std.npy', [MEANS, STDS])\n",
        "MEANS, STDS"
      ],
      "metadata": {
        "id": "bjDw5RNk93nD",
        "colab": {
          "base_uri": "https://localhost:8080/"
        },
        "outputId": "5c788cb3-29c8-4da1-f6bc-c933697a467a"
      },
      "execution_count": 47,
      "outputs": [
        {
          "output_type": "execute_result",
          "data": {
            "text/plain": [
              "(array([1642.8818  , 1621.115   , 1598.5988  , 1918.794   , 2490.597   ,\n",
              "        2604.4023  , 2753.5115  , 2696.2065  , 1048.9395  ,  710.3785  ,\n",
              "          21.115498], dtype=float32),\n",
              " array([1026.1313  ,  994.45984 , 1044.3563  , 1076.0272  , 1126.5492  ,\n",
              "        1129.6202  , 1215.7893  , 1130.656   ,  521.7572  ,  426.1423  ,\n",
              "          11.847122], dtype=float32))"
            ]
          },
          "metadata": {},
          "execution_count": 47
        }
      ]
    },
    {
      "cell_type": "code",
      "source": [
        "# validation data\n",
        "with warnings.catch_warnings():\n",
        "    warnings.simplefilter(\"ignore\")\n",
        "    for chip_id in tqdm(val_ids):\n",
        "        for month in range(12):\n",
        "            img = get_image(os.path.join(train_img_dir, \n",
        "                                        rf\"{chip_id}_S1_{month:02d}.tif\")).astype(np.float32)   \n",
        "            io.imsave(os.path.join(data_path, train_img_dir, \n",
        "                                  rf\"{chip_id}_S1_{month:02d}.tif\"), \n",
        "                      img.astype(np.float32))   \n",
        "\n",
        "            try:\n",
        "                img = get_image(os.path.join(train_img_dir, \n",
        "                                            rf\"{chip_id}_S2_{month:02d}.tif\")).astype(np.float32)\n",
        "                io.imsave(os.path.join(data_path, train_img_dir, \n",
        "                                      rf\"{chip_id}_S2_{month:02d}.tif\"), \n",
        "                          img.astype(np.uint16))   \n",
        "            except:\n",
        "                pass\n",
        "\n",
        "        label = get_image(os.path.join(label_dir, \n",
        "                                        rf\"{chip_id}_agbm.tif\"))\n",
        "        io.imsave(os.path.join(data_path, label_dir, \n",
        "                                rf\"{chip_id}_agbm.tif\"), \n",
        "                  label.astype(np.uint16))\n"
      ],
      "metadata": {
        "colab": {
          "base_uri": "https://localhost:8080/",
          "height": 49,
          "referenced_widgets": [
            "068ea80669ee4db29b64ae3cb6fa3809",
            "a51d0bffed9444e3937e25e81404c900",
            "9be885b308e140c7a0a0abedf68cbe46",
            "d29aca8615524c5da9196cf0a2cb01f4",
            "dafb5933295844f9bdaddb8e8e7a979f",
            "855692bad2cd4a0292b35a2ad91136e6",
            "05a54edd5262452aa4a75c05511a9d3a",
            "602af3da7efe46e7829770d0d34152fa",
            "5a7dc6d794bd41218533e95fd84d47ad",
            "3e1faf0650d44314b6cd3b0730bb4c5f",
            "ae7155d7ed294c8086590bd3dfc99c65"
          ]
        },
        "id": "YDq0xHBzFoHz",
        "outputId": "98ebfa58-074a-4f14-cb7b-71cd43cf0c1f"
      },
      "execution_count": null,
      "outputs": [
        {
          "output_type": "display_data",
          "data": {
            "text/plain": [
              "  0%|          | 0/20 [00:00<?, ?it/s]"
            ],
            "application/vnd.jupyter.widget-view+json": {
              "version_major": 2,
              "version_minor": 0,
              "model_id": "068ea80669ee4db29b64ae3cb6fa3809"
            }
          },
          "metadata": {}
        }
      ]
    },
    {
      "cell_type": "code",
      "source": [
        "# inference data\n",
        "os.makedirs(data_path + test_img_dir, exist_ok=True)\n",
        "\n",
        "with warnings.catch_warnings():\n",
        "    warnings.simplefilter(\"ignore\")\n",
        "    for chip_id in tqdm(pred_ids):\n",
        "        for month in range(12):\n",
        "            img = get_image(os.path.join(test_img_dir, \n",
        "                                        rf\"{chip_id}_S1_{month:02d}.tif\")).astype(np.float32)   \n",
        "            io.imsave(os.path.join(data_path, test_img_dir, \n",
        "                                  rf\"{chip_id}_S1_{month:02d}.tif\"), \n",
        "                      img.astype(np.float32))   \n",
        "\n",
        "            try:\n",
        "                img = get_image(os.path.join(test_img_dir, \n",
        "                                            rf\"{chip_id}_S2_{month:02d}.tif\")).astype(np.float32)\n",
        "                io.imsave(os.path.join(data_path, test_img_dir, \n",
        "                                      rf\"{chip_id}_S2_{month:02d}.tif\"), \n",
        "                          img.astype(np.uint16))   \n",
        "            except:\n",
        "                pass"
      ],
      "metadata": {
        "colab": {
          "base_uri": "https://localhost:8080/",
          "height": 49,
          "referenced_widgets": [
            "66c2f0477b3440c7a6f24ec6da208195",
            "af04459e4296400a8cf36dd36afef034",
            "1d312be364524babac05ed1eee699408",
            "f1b779faa66e41be88b19d6c163c1cb6",
            "67d1d5c741004b3882a57304e34e177f",
            "d7a61dc733c14cf48b09ad9f7dfb3186",
            "58db874b32324f6b89d1209abb759caf",
            "c0a8918cf6624842a73ad0f29b668988",
            "14e00e872706496394e1afdc972cb2a1",
            "465630bc7c4946a79d4cf58d1912c8e0",
            "e04f0910e95b4b3ba5f9d5fa3681460a"
          ]
        },
        "id": "CRFVWrBUDC-Y",
        "outputId": "95d3f828-afdc-4b6f-c439-19dd5a2c84d7"
      },
      "execution_count": null,
      "outputs": [
        {
          "output_type": "display_data",
          "data": {
            "text/plain": [
              "  0%|          | 0/2773 [00:00<?, ?it/s]"
            ],
            "application/vnd.jupyter.widget-view+json": {
              "version_major": 2,
              "version_minor": 0,
              "model_id": "66c2f0477b3440c7a6f24ec6da208195"
            }
          },
          "metadata": {}
        }
      ]
    },
    {
      "cell_type": "code",
      "source": [],
      "metadata": {
        "id": "Qa3OyCGBVAlX"
      },
      "execution_count": null,
      "outputs": []
    }
  ]
}